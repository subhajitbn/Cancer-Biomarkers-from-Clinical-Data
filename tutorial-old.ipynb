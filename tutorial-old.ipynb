{
 "cells": [
  {
   "cell_type": "markdown",
   "metadata": {},
   "source": [
    "# Tutorial for Cancer-Biomarkers-from-Clinical-Data"
   ]
  },
  {
   "cell_type": "markdown",
   "metadata": {},
   "source": [
    "# 1. Data loading and preprocessing"
   ]
  },
  {
   "cell_type": "markdown",
   "metadata": {},
   "source": [
    "## 1.1. Import the necessary modules"
   ]
  },
  {
   "cell_type": "code",
   "execution_count": 1,
   "metadata": {},
   "outputs": [],
   "source": [
    "# Library imports\n",
    "import matplotlib.pyplot as plt\n",
    "import seaborn as sns\n",
    "from sklearn.preprocessing import StandardScaler\n",
    "import numpy as np\n",
    "import pandas as pd\n",
    "\n",
    "from sklearn.ensemble import RandomForestClassifier\n",
    "from sklearn.model_selection import train_test_split\n",
    "from sklearn.metrics import accuracy_score, classification_report, confusion_matrix\n",
    "\n",
    "# Add the path to the src folder\n",
    "import sys\n",
    "sys.path.append('src')\n",
    "\n",
    "# Import project functions\n",
    "from data_preprocessing import load_data, feature_label_split\n",
    "from random_forest_model import rf_normal_cancers, plot_important_biomarkers\n",
    "from desc_stats import descriptive_statistics, cancer_biomarkers_uniquely_high, cancer_biomarkers_higher_side_filtering\n",
    "from stats_tests import find_shared_nature_of_biomarkers"
   ]
  },
  {
   "cell_type": "markdown",
   "metadata": {},
   "source": [
    "## 1.2. Load the data"
   ]
  },
  {
   "cell_type": "code",
   "execution_count": 2,
   "metadata": {},
   "outputs": [
    {
     "data": {
      "text/plain": [
       "[(0, 'Breast'),\n",
       " (1, 'Colorectum'),\n",
       " (2, 'Esophagus'),\n",
       " (3, 'Liver'),\n",
       " (4, 'Lung'),\n",
       " (5, 'Normal'),\n",
       " (6, 'Ovary'),\n",
       " (7, 'Pancreas'),\n",
       " (8, 'Stomach')]"
      ]
     },
     "execution_count": 2,
     "metadata": {},
     "output_type": "execute_result"
    }
   ],
   "source": [
    "categories, dfs = load_data('data/clinical_cancer_data.xlsx')\n",
    "\n",
    "list(enumerate(categories))"
   ]
  },
  {
   "cell_type": "code",
   "execution_count": 3,
   "metadata": {},
   "outputs": [
    {
     "data": {
      "text/plain": [
       "[(0, 'AFP '),\n",
       " (1, 'Angiopoietin-2 '),\n",
       " (2, 'AXL '),\n",
       " (3, 'CA-125 '),\n",
       " (4, 'CA 15-3 '),\n",
       " (5, 'CA19-9 '),\n",
       " (6, 'CD44 '),\n",
       " (7, 'CEA '),\n",
       " (8, 'CYFRA 21-1 '),\n",
       " (9, 'DKK1 '),\n",
       " (10, 'Endoglin '),\n",
       " (11, 'FGF2 '),\n",
       " (12, 'Follistatin '),\n",
       " (13, 'Galectin-3 '),\n",
       " (14, 'G-CSF '),\n",
       " (15, 'GDF15 '),\n",
       " (16, 'HE4 '),\n",
       " (17, 'HGF '),\n",
       " (18, 'IL-6 '),\n",
       " (19, 'IL-8 '),\n",
       " (20, 'Kallikrein-6 '),\n",
       " (21, 'Leptin '),\n",
       " (22, 'Mesothelin '),\n",
       " (23, 'Midkine '),\n",
       " (24, 'Myeloperoxidase '),\n",
       " (25, 'NSE '),\n",
       " (26, 'OPG '),\n",
       " (27, 'OPN '),\n",
       " (28, 'PAR '),\n",
       " (29, 'Prolactin '),\n",
       " (30, 'sEGFR '),\n",
       " (31, 'sFas '),\n",
       " (32, 'SHBG '),\n",
       " (33, 'sHER2/sEGFR2/sErbB2 '),\n",
       " (34, 'sPECAM-1 '),\n",
       " (35, 'TGFa '),\n",
       " (36, 'Thrombospondin-2 '),\n",
       " (37, 'TIMP-1 '),\n",
       " (38, 'TIMP-2 ')]"
      ]
     },
     "execution_count": 3,
     "metadata": {},
     "output_type": "execute_result"
    }
   ],
   "source": [
    "biomarkers = feature_label_split(dfs[0])[0].columns\n",
    "list(enumerate(biomarkers))"
   ]
  },
  {
   "cell_type": "markdown",
   "metadata": {},
   "source": [
    "# 2. Analysis of `Ovary`, `Pancreas` and `Liver` samples, taken together with random subsamples of `Normal` samples\n",
    "\n",
    "In this section, we will see three cancer types for which the list of biomarkers given by random forest classifier contain biomarkers with uniquely high level in the particular cancer type, along with other biomarkers whose Q3 values are in the top 2 among all cancer types. Essentially, in each of these cancer types, we obtain practically viable biomarkers. "
   ]
  },
  {
   "cell_type": "markdown",
   "metadata": {},
   "source": [
    "## 2.1. Analysis of `Normal + Ovary` samples"
   ]
  },
  {
   "cell_type": "markdown",
   "metadata": {},
   "source": [
    "### 2.1.1. Random forest classification for `Normal + Ovary` samples"
   ]
  },
  {
   "cell_type": "code",
   "execution_count": 4,
   "metadata": {},
   "outputs": [
    {
     "name": "stdout",
     "output_type": "stream",
     "text": [
      "Random forest classification: Normal + Ovary\n",
      "\n",
      "Average Accuracy over 100 iterations: 0.9614\n",
      "\n",
      "Biomarkers with Importance >= 0.04:\n",
      "     Biomarker  Importance\n",
      "3      CA-125     0.159995\n",
      "29  Prolactin     0.109398\n",
      "18       IL-6     0.099734\n",
      "35       TGFa     0.094122\n",
      "31       sFas     0.075817\n",
      "16        HE4     0.048810\n",
      "37     TIMP-1     0.046099\n"
     ]
    }
   ],
   "source": [
    "important_biomarkers_normal_ovary = rf_normal_cancers(categories = categories, \n",
    "                                                      dfs = dfs, \n",
    "                                                      cancer1_category_index = 6, \n",
    "                                                      iterations = 100,\n",
    "                                                      threshold = 0.04)"
   ]
  },
  {
   "cell_type": "markdown",
   "metadata": {},
   "source": [
    "And here's the list of the biomarker indices."
   ]
  },
  {
   "cell_type": "code",
   "execution_count": 5,
   "metadata": {},
   "outputs": [
    {
     "data": {
      "text/plain": [
       "[3, 29, 18, 35, 31, 16, 37]"
      ]
     },
     "execution_count": 5,
     "metadata": {},
     "output_type": "execute_result"
    }
   ],
   "source": [
    "ovary_important_biomarker_indices_in_RF = list(important_biomarkers_normal_ovary.index)\n",
    "ovary_important_biomarker_indices_in_RF"
   ]
  },
  {
   "cell_type": "markdown",
   "metadata": {},
   "source": [
    "### 2.1.2. Filtering through descriptive statistics of biomarkers in `Normal + Ovary` samples\n",
    "\n",
    "* Uniquely high levels: `CA-125`\n",
    "* Higher side filtering: `Prolactin` (1st), `HE4` (1st)"
   ]
  },
  {
   "cell_type": "markdown",
   "metadata": {},
   "source": [
    "Now, we find that CA-125 is present in uniquely high levels in `Ovary` samples."
   ]
  },
  {
   "cell_type": "code",
   "execution_count": 6,
   "metadata": {},
   "outputs": [
    {
     "name": "stdout",
     "output_type": "stream",
     "text": [
      "\n",
      "Biomarker 3: CA-125 \n",
      "Outlier categories with uniquely high Q2 levels: [('Ovary', 155.36)]\n",
      "Outlier categories with uniquely high Q3 levels: [('Ovary', 486.2925)]\n"
     ]
    }
   ],
   "source": [
    "ovary_biomarkers_uniquely_high = cancer_biomarkers_uniquely_high(categories = categories, \n",
    "                                                                 dfs = dfs, \n",
    "                                                                 cancer_important_biomarker_indices_in_RF = ovary_important_biomarker_indices_in_RF)"
   ]
  },
  {
   "cell_type": "markdown",
   "metadata": {},
   "source": [
    "Let's see the biomarkers that pass through the uniquely high level criterion."
   ]
  },
  {
   "cell_type": "code",
   "execution_count": 7,
   "metadata": {},
   "outputs": [
    {
     "data": {
      "text/plain": [
       "['CA-125 ']"
      ]
     },
     "execution_count": 7,
     "metadata": {},
     "output_type": "execute_result"
    }
   ],
   "source": [
    "[biomarkers[i] for i in ovary_biomarkers_uniquely_high]"
   ]
  },
  {
   "cell_type": "markdown",
   "metadata": {},
   "source": [
    "And, `Prolactin` and `HE4` pass through the higher side filtering criteria."
   ]
  },
  {
   "cell_type": "code",
   "execution_count": 8,
   "metadata": {},
   "outputs": [
    {
     "name": "stdout",
     "output_type": "stream",
     "text": [
      "\n",
      "Biomarker 29: Prolactin \n",
      "The biomarker's Q3 level is the highest in the given category.\n",
      "\n",
      "Biomarker 16: HE4 \n",
      "The biomarker's Q3 level is the highest in the given category.\n"
     ]
    }
   ],
   "source": [
    "ovary_candidates_for_higher_side_filtering = ovary_important_biomarker_indices_in_RF.copy()\n",
    "ovary_candidates_for_higher_side_filtering.remove(ovary_biomarkers_uniquely_high[0])\n",
    "\n",
    "ovary_biomarkers_higher_side = cancer_biomarkers_higher_side_filtering(categories = categories,\n",
    "                                                                       dfs = dfs,\n",
    "                                                                       cancer_category_index = 6,\n",
    "                                                                       cancer_candidates_for_higher_side_filtering = ovary_candidates_for_higher_side_filtering)"
   ]
  },
  {
   "cell_type": "markdown",
   "metadata": {},
   "source": [
    "Here's the list of biomarkers that pass through the higher side filtering criteria."
   ]
  },
  {
   "cell_type": "code",
   "execution_count": 9,
   "metadata": {},
   "outputs": [
    {
     "data": {
      "text/plain": [
       "['Prolactin ', 'HE4 ']"
      ]
     },
     "execution_count": 9,
     "metadata": {},
     "output_type": "execute_result"
    }
   ],
   "source": [
    "[biomarkers[i] for i in ovary_biomarkers_higher_side]"
   ]
  },
  {
   "cell_type": "markdown",
   "metadata": {},
   "source": [
    "Let's collect the biomarker indices that pass through the two descriptive statistics-based filtering criteria.\n"
   ]
  },
  {
   "cell_type": "code",
   "execution_count": 10,
   "metadata": {},
   "outputs": [
    {
     "data": {
      "text/plain": [
       "['CA-125 ', 'Prolactin ', 'HE4 ']"
      ]
     },
     "execution_count": 10,
     "metadata": {},
     "output_type": "execute_result"
    }
   ],
   "source": [
    "ovary_selected_biomarkers = ovary_biomarkers_uniquely_high + ovary_biomarkers_higher_side\n",
    "\n",
    "[biomarkers[i] for i in ovary_selected_biomarkers]"
   ]
  },
  {
   "cell_type": "markdown",
   "metadata": {},
   "source": [
    "For example, let's see an overview of `CA-125` levels in all the cancer types, as well as the normal samples."
   ]
  },
  {
   "cell_type": "code",
   "execution_count": 11,
   "metadata": {},
   "outputs": [],
   "source": [
    "# descriptive_statistics(categories = categories, dfs = dfs, biomarker_index = 3)"
   ]
  },
  {
   "cell_type": "markdown",
   "metadata": {},
   "source": [
    "### 2.1.3. Yuen-Welch's test of `CA-125`, `Prolactin` and `HE4` levels in `Ovary` samples versus all the other cancer types"
   ]
  },
  {
   "cell_type": "code",
   "execution_count": 12,
   "metadata": {},
   "outputs": [
    {
     "name": "stdout",
     "output_type": "stream",
     "text": [
      "\n",
      "Biomarker 3: CA-125 \n"
     ]
    },
    {
     "data": {
      "text/html": [
       "<div>\n",
       "<style scoped>\n",
       "    .dataframe tbody tr th:only-of-type {\n",
       "        vertical-align: middle;\n",
       "    }\n",
       "\n",
       "    .dataframe tbody tr th {\n",
       "        vertical-align: top;\n",
       "    }\n",
       "\n",
       "    .dataframe thead th {\n",
       "        text-align: right;\n",
       "    }\n",
       "</style>\n",
       "<table border=\"1\" class=\"dataframe\">\n",
       "  <thead>\n",
       "    <tr style=\"text-align: right;\">\n",
       "      <th></th>\n",
       "      <th>Breast</th>\n",
       "      <th>Colorectum</th>\n",
       "      <th>Esophagus</th>\n",
       "      <th>Liver</th>\n",
       "      <th>Lung</th>\n",
       "      <th>Normal</th>\n",
       "      <th>Pancreas</th>\n",
       "      <th>Stomach</th>\n",
       "    </tr>\n",
       "  </thead>\n",
       "  <tbody>\n",
       "    <tr>\n",
       "      <th>Ovary</th>\n",
       "      <td>0.001462</td>\n",
       "      <td>0.001462</td>\n",
       "      <td>0.001475</td>\n",
       "      <td>0.001599</td>\n",
       "      <td>0.001514</td>\n",
       "      <td>0.001424</td>\n",
       "      <td>0.001808</td>\n",
       "      <td>0.001532</td>\n",
       "    </tr>\n",
       "  </tbody>\n",
       "</table>\n",
       "</div>"
      ],
      "text/plain": [
       "         Breast  Colorectum  Esophagus     Liver      Lung    Normal  \\\n",
       "Ovary  0.001462    0.001462   0.001475  0.001599  0.001514  0.001424   \n",
       "\n",
       "       Pancreas   Stomach  \n",
       "Ovary  0.001808  0.001532  "
      ]
     },
     "metadata": {},
     "output_type": "display_data"
    },
    {
     "name": "stdout",
     "output_type": "stream",
     "text": [
      "\n",
      "Biomarker 29: Prolactin \n"
     ]
    },
    {
     "data": {
      "text/html": [
       "<div>\n",
       "<style scoped>\n",
       "    .dataframe tbody tr th:only-of-type {\n",
       "        vertical-align: middle;\n",
       "    }\n",
       "\n",
       "    .dataframe tbody tr th {\n",
       "        vertical-align: top;\n",
       "    }\n",
       "\n",
       "    .dataframe thead th {\n",
       "        text-align: right;\n",
       "    }\n",
       "</style>\n",
       "<table border=\"1\" class=\"dataframe\">\n",
       "  <thead>\n",
       "    <tr style=\"text-align: right;\">\n",
       "      <th></th>\n",
       "      <th>Breast</th>\n",
       "      <th>Colorectum</th>\n",
       "      <th>Esophagus</th>\n",
       "      <th>Liver</th>\n",
       "      <th>Lung</th>\n",
       "      <th>Normal</th>\n",
       "      <th>Pancreas</th>\n",
       "      <th>Stomach</th>\n",
       "    </tr>\n",
       "  </thead>\n",
       "  <tbody>\n",
       "    <tr>\n",
       "      <th>Ovary</th>\n",
       "      <td>0.000008</td>\n",
       "      <td>0.000057</td>\n",
       "      <td>0.000002</td>\n",
       "      <td>0.006204</td>\n",
       "      <td>0.040432</td>\n",
       "      <td>1.234060e-07</td>\n",
       "      <td>0.000003</td>\n",
       "      <td>0.000002</td>\n",
       "    </tr>\n",
       "  </tbody>\n",
       "</table>\n",
       "</div>"
      ],
      "text/plain": [
       "         Breast  Colorectum  Esophagus     Liver      Lung        Normal  \\\n",
       "Ovary  0.000008    0.000057   0.000002  0.006204  0.040432  1.234060e-07   \n",
       "\n",
       "       Pancreas   Stomach  \n",
       "Ovary  0.000003  0.000002  "
      ]
     },
     "metadata": {},
     "output_type": "display_data"
    },
    {
     "name": "stdout",
     "output_type": "stream",
     "text": [
      "\n",
      "Biomarker 16: HE4  didn't pass the p-value cutoff for one or two categories.\n"
     ]
    },
    {
     "data": {
      "text/html": [
       "<div>\n",
       "<style scoped>\n",
       "    .dataframe tbody tr th:only-of-type {\n",
       "        vertical-align: middle;\n",
       "    }\n",
       "\n",
       "    .dataframe tbody tr th {\n",
       "        vertical-align: top;\n",
       "    }\n",
       "\n",
       "    .dataframe thead th {\n",
       "        text-align: right;\n",
       "    }\n",
       "</style>\n",
       "<table border=\"1\" class=\"dataframe\">\n",
       "  <thead>\n",
       "    <tr style=\"text-align: right;\">\n",
       "      <th></th>\n",
       "      <th>Breast</th>\n",
       "      <th>Colorectum</th>\n",
       "      <th>Esophagus</th>\n",
       "      <th>Liver</th>\n",
       "      <th>Lung</th>\n",
       "      <th>Normal</th>\n",
       "      <th>Pancreas</th>\n",
       "      <th>Stomach</th>\n",
       "    </tr>\n",
       "  </thead>\n",
       "  <tbody>\n",
       "    <tr>\n",
       "      <th>Ovary</th>\n",
       "      <td>0.005556</td>\n",
       "      <td>0.010388</td>\n",
       "      <td>0.01596</td>\n",
       "      <td>0.007312</td>\n",
       "      <td>0.005633</td>\n",
       "      <td>0.005347</td>\n",
       "      <td>0.053539</td>\n",
       "      <td>0.005956</td>\n",
       "    </tr>\n",
       "  </tbody>\n",
       "</table>\n",
       "</div>"
      ],
      "text/plain": [
       "         Breast  Colorectum  Esophagus     Liver      Lung    Normal  \\\n",
       "Ovary  0.005556    0.010388    0.01596  0.007312  0.005633  0.005347   \n",
       "\n",
       "       Pancreas   Stomach  \n",
       "Ovary  0.053539  0.005956  "
      ]
     },
     "metadata": {},
     "output_type": "display_data"
    }
   ],
   "source": [
    "ovary_shared_nature_of_biomarkers = find_shared_nature_of_biomarkers(\n",
    "    categories = categories,\n",
    "    dfs = dfs,\n",
    "    cancer_category_index = 6,\n",
    "    cancer_selected_biomarkers = ovary_selected_biomarkers,\n",
    "    p_threshold = 0.05,\n",
    "    debug = True\n",
    ")"
   ]
  },
  {
   "cell_type": "markdown",
   "metadata": {},
   "source": [
    "Now, we have the finalized list of biomarkers. Note that, `HE4` didn't pass the hypothesis test based criterion."
   ]
  },
  {
   "cell_type": "code",
   "execution_count": 13,
   "metadata": {},
   "outputs": [
    {
     "data": {
      "text/plain": [
       "[(3, []), (29, []), (16, [6])]"
      ]
     },
     "execution_count": 13,
     "metadata": {},
     "output_type": "execute_result"
    }
   ],
   "source": [
    "ovary_shared_nature_of_biomarkers"
   ]
  },
  {
   "cell_type": "markdown",
   "metadata": {},
   "source": [
    "## 2.2. Analysis of `Normal + Pancreas` samples"
   ]
  },
  {
   "cell_type": "markdown",
   "metadata": {},
   "source": [
    "### 2.2.1. Random forest classification for `Normal + Pancreas` samples"
   ]
  },
  {
   "cell_type": "code",
   "execution_count": 14,
   "metadata": {},
   "outputs": [
    {
     "name": "stdout",
     "output_type": "stream",
     "text": [
      "Random forest classification: Normal + Pancreas\n",
      "\n",
      "Average Accuracy over 100 iterations: 0.9389\n",
      "\n",
      "Biomarkers with Importance >= 0.04:\n",
      "               Biomarker  Importance\n",
      "5                CA19-9     0.142069\n",
      "19                 IL-8     0.094102\n",
      "18                 IL-6     0.080587\n",
      "33  sHER2/sEGFR2/sErbB2     0.077110\n",
      "27                  OPN     0.060258\n",
      "15                GDF15     0.057668\n",
      "23              Midkine     0.050770\n",
      "17                  HGF     0.043427\n"
     ]
    }
   ],
   "source": [
    "important_biomarkers_normal_pancreas = rf_normal_cancers(categories = categories, \n",
    "                                                         dfs = dfs, \n",
    "                                                         cancer1_category_index = 7, \n",
    "                                                         iterations = 100, \n",
    "                                                         threshold = 0.04)"
   ]
  },
  {
   "cell_type": "code",
   "execution_count": 15,
   "metadata": {},
   "outputs": [
    {
     "data": {
      "text/plain": [
       "[5, 19, 18, 33, 27, 15, 23, 17]"
      ]
     },
     "execution_count": 15,
     "metadata": {},
     "output_type": "execute_result"
    }
   ],
   "source": [
    "pancreas_important_biomarker_indices_in_RF = list(important_biomarkers_normal_pancreas.index)\n",
    "pancreas_important_biomarker_indices_in_RF"
   ]
  },
  {
   "cell_type": "markdown",
   "metadata": {},
   "source": [
    "### 2.2.2. Filtering through descriptive statistics of biomarkers in `Normal + Pancreas` samples\n",
    "\n",
    "* Uniquely high levels: `CA19-9`\n",
    "* Higher side filtering: `sHER2/sEGFR2/sErbB2` (1st)\n",
    "\n",
    "As an example, we see the descriptive statistics of `CA19-9` in all the cancer types as well as `Normal` samples below."
   ]
  },
  {
   "cell_type": "code",
   "execution_count": 16,
   "metadata": {},
   "outputs": [
    {
     "name": "stdout",
     "output_type": "stream",
     "text": [
      "\n",
      "Biomarker 5: CA19-9 \n",
      "Outlier categories with uniquely high Q2 levels: [('Pancreas', 101.63)]\n",
      "Outlier categories with uniquely high Q3 levels: [('Pancreas', 316.3)]\n"
     ]
    }
   ],
   "source": [
    "pancreas_biomarkers_uniquely_high = cancer_biomarkers_uniquely_high(categories = categories,\n",
    "                                                                    dfs = dfs,\n",
    "                                                                    cancer_important_biomarker_indices_in_RF = pancreas_important_biomarker_indices_in_RF)"
   ]
  },
  {
   "cell_type": "code",
   "execution_count": 17,
   "metadata": {},
   "outputs": [
    {
     "data": {
      "text/plain": [
       "[5]"
      ]
     },
     "execution_count": 17,
     "metadata": {},
     "output_type": "execute_result"
    }
   ],
   "source": [
    "pancreas_biomarkers_uniquely_high"
   ]
  },
  {
   "cell_type": "code",
   "execution_count": 18,
   "metadata": {},
   "outputs": [
    {
     "name": "stdout",
     "output_type": "stream",
     "text": [
      "\n",
      "Biomarker 19: IL-8 \n",
      "The biomarker's Q3 level is the third highest in the given category.\n",
      "\n",
      "Biomarker 33: sHER2/sEGFR2/sErbB2 \n",
      "The biomarker's Q3 level is the highest in the given category.\n",
      "\n",
      "Biomarker 15: GDF15 \n",
      "The biomarker's Q3 level is the highest in the given category.\n",
      "\n",
      "Biomarker 23: Midkine \n",
      "The biomarker's Q3 level is the highest in the given category.\n"
     ]
    }
   ],
   "source": [
    "candidates_for_higher_side_filtering = pancreas_important_biomarker_indices_in_RF.copy()\n",
    "candidates_for_higher_side_filtering.remove(pancreas_biomarkers_uniquely_high[0])\n",
    "\n",
    "pancreas_biomarkers_higher_side = cancer_biomarkers_higher_side_filtering(categories = categories,\n",
    "                                                                          dfs = dfs,\n",
    "                                                                          cancer_category_index = 7,\n",
    "                                                                          cancer_candidates_for_higher_side_filtering = candidates_for_higher_side_filtering)"
   ]
  },
  {
   "cell_type": "code",
   "execution_count": 19,
   "metadata": {},
   "outputs": [
    {
     "data": {
      "text/plain": [
       "[19, 33, 15, 23]"
      ]
     },
     "execution_count": 19,
     "metadata": {},
     "output_type": "execute_result"
    }
   ],
   "source": [
    "pancreas_biomarkers_higher_side"
   ]
  },
  {
   "cell_type": "code",
   "execution_count": 20,
   "metadata": {},
   "outputs": [
    {
     "data": {
      "text/plain": [
       "['CA19-9 ', 'IL-8 ', 'sHER2/sEGFR2/sErbB2 ', 'GDF15 ', 'Midkine ']"
      ]
     },
     "execution_count": 20,
     "metadata": {},
     "output_type": "execute_result"
    }
   ],
   "source": [
    "pancreas_selected_biomarkers = pancreas_biomarkers_uniquely_high + pancreas_biomarkers_higher_side\n",
    "\n",
    "[biomarkers[i] for i in pancreas_selected_biomarkers]"
   ]
  },
  {
   "cell_type": "code",
   "execution_count": 21,
   "metadata": {},
   "outputs": [],
   "source": [
    "# descriptive_statistics(categories = categories, dfs = dfs, biomarker_index = 5)"
   ]
  },
  {
   "cell_type": "markdown",
   "metadata": {},
   "source": [
    "### 2.2.3. Yuen-Welch's test of `CA19-9` and `SHER2/sEGFR2/sErbB2` levels in `Pancreas` samples versus all the other cancer types"
   ]
  },
  {
   "cell_type": "code",
   "execution_count": 22,
   "metadata": {},
   "outputs": [
    {
     "name": "stdout",
     "output_type": "stream",
     "text": [
      "\n",
      "Biomarker 5: CA19-9 \n"
     ]
    },
    {
     "data": {
      "text/html": [
       "<div>\n",
       "<style scoped>\n",
       "    .dataframe tbody tr th:only-of-type {\n",
       "        vertical-align: middle;\n",
       "    }\n",
       "\n",
       "    .dataframe tbody tr th {\n",
       "        vertical-align: top;\n",
       "    }\n",
       "\n",
       "    .dataframe thead th {\n",
       "        text-align: right;\n",
       "    }\n",
       "</style>\n",
       "<table border=\"1\" class=\"dataframe\">\n",
       "  <thead>\n",
       "    <tr style=\"text-align: right;\">\n",
       "      <th></th>\n",
       "      <th>Breast</th>\n",
       "      <th>Colorectum</th>\n",
       "      <th>Esophagus</th>\n",
       "      <th>Liver</th>\n",
       "      <th>Lung</th>\n",
       "      <th>Normal</th>\n",
       "      <th>Ovary</th>\n",
       "      <th>Stomach</th>\n",
       "    </tr>\n",
       "  </thead>\n",
       "  <tbody>\n",
       "    <tr>\n",
       "      <th>Pancreas</th>\n",
       "      <td>0.000004</td>\n",
       "      <td>0.000004</td>\n",
       "      <td>0.000006</td>\n",
       "      <td>0.000007</td>\n",
       "      <td>0.000004</td>\n",
       "      <td>0.000004</td>\n",
       "      <td>0.000028</td>\n",
       "      <td>0.000007</td>\n",
       "    </tr>\n",
       "  </tbody>\n",
       "</table>\n",
       "</div>"
      ],
      "text/plain": [
       "            Breast  Colorectum  Esophagus     Liver      Lung    Normal  \\\n",
       "Pancreas  0.000004    0.000004   0.000006  0.000007  0.000004  0.000004   \n",
       "\n",
       "             Ovary   Stomach  \n",
       "Pancreas  0.000028  0.000007  "
      ]
     },
     "metadata": {},
     "output_type": "display_data"
    },
    {
     "name": "stdout",
     "output_type": "stream",
     "text": [
      "\n",
      "Biomarker 19: IL-8  didn't pass the p-value cutoff for three or more categories. It is dropped.\n"
     ]
    },
    {
     "data": {
      "text/html": [
       "<div>\n",
       "<style scoped>\n",
       "    .dataframe tbody tr th:only-of-type {\n",
       "        vertical-align: middle;\n",
       "    }\n",
       "\n",
       "    .dataframe tbody tr th {\n",
       "        vertical-align: top;\n",
       "    }\n",
       "\n",
       "    .dataframe thead th {\n",
       "        text-align: right;\n",
       "    }\n",
       "</style>\n",
       "<table border=\"1\" class=\"dataframe\">\n",
       "  <thead>\n",
       "    <tr style=\"text-align: right;\">\n",
       "      <th></th>\n",
       "      <th>Breast</th>\n",
       "      <th>Colorectum</th>\n",
       "      <th>Esophagus</th>\n",
       "      <th>Liver</th>\n",
       "      <th>Lung</th>\n",
       "      <th>Normal</th>\n",
       "      <th>Ovary</th>\n",
       "      <th>Stomach</th>\n",
       "    </tr>\n",
       "  </thead>\n",
       "  <tbody>\n",
       "    <tr>\n",
       "      <th>Pancreas</th>\n",
       "      <td>5.671292e-07</td>\n",
       "      <td>0.003083</td>\n",
       "      <td>0.269314</td>\n",
       "      <td>0.755308</td>\n",
       "      <td>0.000024</td>\n",
       "      <td>1.093982e-08</td>\n",
       "      <td>0.000134</td>\n",
       "      <td>0.200486</td>\n",
       "    </tr>\n",
       "  </tbody>\n",
       "</table>\n",
       "</div>"
      ],
      "text/plain": [
       "                Breast  Colorectum  Esophagus     Liver      Lung  \\\n",
       "Pancreas  5.671292e-07    0.003083   0.269314  0.755308  0.000024   \n",
       "\n",
       "                Normal     Ovary   Stomach  \n",
       "Pancreas  1.093982e-08  0.000134  0.200486  "
      ]
     },
     "metadata": {},
     "output_type": "display_data"
    },
    {
     "name": "stdout",
     "output_type": "stream",
     "text": [
      "\n",
      "Biomarker 33: sHER2/sEGFR2/sErbB2 \n"
     ]
    },
    {
     "data": {
      "text/html": [
       "<div>\n",
       "<style scoped>\n",
       "    .dataframe tbody tr th:only-of-type {\n",
       "        vertical-align: middle;\n",
       "    }\n",
       "\n",
       "    .dataframe tbody tr th {\n",
       "        vertical-align: top;\n",
       "    }\n",
       "\n",
       "    .dataframe thead th {\n",
       "        text-align: right;\n",
       "    }\n",
       "</style>\n",
       "<table border=\"1\" class=\"dataframe\">\n",
       "  <thead>\n",
       "    <tr style=\"text-align: right;\">\n",
       "      <th></th>\n",
       "      <th>Breast</th>\n",
       "      <th>Colorectum</th>\n",
       "      <th>Esophagus</th>\n",
       "      <th>Liver</th>\n",
       "      <th>Lung</th>\n",
       "      <th>Normal</th>\n",
       "      <th>Ovary</th>\n",
       "      <th>Stomach</th>\n",
       "    </tr>\n",
       "  </thead>\n",
       "  <tbody>\n",
       "    <tr>\n",
       "      <th>Pancreas</th>\n",
       "      <td>2.378440e-14</td>\n",
       "      <td>5.674212e-15</td>\n",
       "      <td>1.794949e-18</td>\n",
       "      <td>1.036979e-14</td>\n",
       "      <td>2.269839e-16</td>\n",
       "      <td>2.257614e-13</td>\n",
       "      <td>4.954688e-17</td>\n",
       "      <td>4.144131e-19</td>\n",
       "    </tr>\n",
       "  </tbody>\n",
       "</table>\n",
       "</div>"
      ],
      "text/plain": [
       "                Breast    Colorectum     Esophagus         Liver  \\\n",
       "Pancreas  2.378440e-14  5.674212e-15  1.794949e-18  1.036979e-14   \n",
       "\n",
       "                  Lung        Normal         Ovary       Stomach  \n",
       "Pancreas  2.269839e-16  2.257614e-13  4.954688e-17  4.144131e-19  "
      ]
     },
     "metadata": {},
     "output_type": "display_data"
    },
    {
     "name": "stdout",
     "output_type": "stream",
     "text": [
      "\n",
      "Biomarker 15: GDF15  didn't pass the p-value cutoff for one or two categories.\n"
     ]
    },
    {
     "data": {
      "text/html": [
       "<div>\n",
       "<style scoped>\n",
       "    .dataframe tbody tr th:only-of-type {\n",
       "        vertical-align: middle;\n",
       "    }\n",
       "\n",
       "    .dataframe tbody tr th {\n",
       "        vertical-align: top;\n",
       "    }\n",
       "\n",
       "    .dataframe thead th {\n",
       "        text-align: right;\n",
       "    }\n",
       "</style>\n",
       "<table border=\"1\" class=\"dataframe\">\n",
       "  <thead>\n",
       "    <tr style=\"text-align: right;\">\n",
       "      <th></th>\n",
       "      <th>Breast</th>\n",
       "      <th>Colorectum</th>\n",
       "      <th>Esophagus</th>\n",
       "      <th>Liver</th>\n",
       "      <th>Lung</th>\n",
       "      <th>Normal</th>\n",
       "      <th>Ovary</th>\n",
       "      <th>Stomach</th>\n",
       "    </tr>\n",
       "  </thead>\n",
       "  <tbody>\n",
       "    <tr>\n",
       "      <th>Pancreas</th>\n",
       "      <td>2.316641e-11</td>\n",
       "      <td>0.000017</td>\n",
       "      <td>0.027547</td>\n",
       "      <td>0.404266</td>\n",
       "      <td>2.712515e-08</td>\n",
       "      <td>8.209094e-13</td>\n",
       "      <td>0.000408</td>\n",
       "      <td>0.0029</td>\n",
       "    </tr>\n",
       "  </tbody>\n",
       "</table>\n",
       "</div>"
      ],
      "text/plain": [
       "                Breast  Colorectum  Esophagus     Liver          Lung  \\\n",
       "Pancreas  2.316641e-11    0.000017   0.027547  0.404266  2.712515e-08   \n",
       "\n",
       "                Normal     Ovary  Stomach  \n",
       "Pancreas  8.209094e-13  0.000408   0.0029  "
      ]
     },
     "metadata": {},
     "output_type": "display_data"
    },
    {
     "name": "stdout",
     "output_type": "stream",
     "text": [
      "\n",
      "Biomarker 23: Midkine \n"
     ]
    },
    {
     "data": {
      "text/html": [
       "<div>\n",
       "<style scoped>\n",
       "    .dataframe tbody tr th:only-of-type {\n",
       "        vertical-align: middle;\n",
       "    }\n",
       "\n",
       "    .dataframe tbody tr th {\n",
       "        vertical-align: top;\n",
       "    }\n",
       "\n",
       "    .dataframe thead th {\n",
       "        text-align: right;\n",
       "    }\n",
       "</style>\n",
       "<table border=\"1\" class=\"dataframe\">\n",
       "  <thead>\n",
       "    <tr style=\"text-align: right;\">\n",
       "      <th></th>\n",
       "      <th>Breast</th>\n",
       "      <th>Colorectum</th>\n",
       "      <th>Esophagus</th>\n",
       "      <th>Liver</th>\n",
       "      <th>Lung</th>\n",
       "      <th>Normal</th>\n",
       "      <th>Ovary</th>\n",
       "      <th>Stomach</th>\n",
       "    </tr>\n",
       "  </thead>\n",
       "  <tbody>\n",
       "    <tr>\n",
       "      <th>Pancreas</th>\n",
       "      <td>7.642643e-10</td>\n",
       "      <td>0.000037</td>\n",
       "      <td>1.586982e-08</td>\n",
       "      <td>2.867214e-07</td>\n",
       "      <td>0.011287</td>\n",
       "      <td>2.713590e-10</td>\n",
       "      <td>0.000648</td>\n",
       "      <td>4.018868e-08</td>\n",
       "    </tr>\n",
       "  </tbody>\n",
       "</table>\n",
       "</div>"
      ],
      "text/plain": [
       "                Breast  Colorectum     Esophagus         Liver      Lung  \\\n",
       "Pancreas  7.642643e-10    0.000037  1.586982e-08  2.867214e-07  0.011287   \n",
       "\n",
       "                Normal     Ovary       Stomach  \n",
       "Pancreas  2.713590e-10  0.000648  4.018868e-08  "
      ]
     },
     "metadata": {},
     "output_type": "display_data"
    }
   ],
   "source": [
    "pancreas_shared_nature_of_biomarkers = find_shared_nature_of_biomarkers(\n",
    "    categories = categories,\n",
    "    dfs = dfs,\n",
    "    cancer_category_index = 7,\n",
    "    cancer_selected_biomarkers = pancreas_selected_biomarkers,\n",
    "    p_threshold = 0.05,\n",
    "    debug = True\n",
    ")"
   ]
  },
  {
   "cell_type": "markdown",
   "metadata": {},
   "source": [
    "`IL-8` is immediately dropped. Because the p_values are greater than 0.05 for 3 comparisons."
   ]
  },
  {
   "cell_type": "code",
   "execution_count": 23,
   "metadata": {},
   "outputs": [
    {
     "data": {
      "text/plain": [
       "[(5, []), (33, []), (15, [3]), (23, [])]"
      ]
     },
     "execution_count": 23,
     "metadata": {},
     "output_type": "execute_result"
    }
   ],
   "source": [
    "pancreas_shared_nature_of_biomarkers"
   ]
  },
  {
   "cell_type": "markdown",
   "metadata": {},
   "source": [
    "## 2.3. Analysis of `Normal + Liver` samples"
   ]
  },
  {
   "cell_type": "markdown",
   "metadata": {},
   "source": [
    "### 2.3.1. Random forest classification for `Normal + Liver` samples"
   ]
  },
  {
   "cell_type": "code",
   "execution_count": 24,
   "metadata": {},
   "outputs": [
    {
     "name": "stdout",
     "output_type": "stream",
     "text": [
      "Random forest classification: Normal + Liver\n",
      "\n",
      "Average Accuracy over 100 iterations: 0.9483\n",
      "\n",
      "Biomarkers with Importance >= 0.04:\n",
      "           Biomarker  Importance\n",
      "19             IL-8     0.128577\n",
      "17              HGF     0.122702\n",
      "27              OPN     0.117051\n",
      "15            GDF15     0.085102\n",
      "24  Myeloperoxidase     0.062697\n",
      "0               AFP     0.054613\n",
      "18             IL-6     0.042997\n"
     ]
    }
   ],
   "source": [
    "important_biomarkers_normal_liver = rf_normal_cancers(categories = categories, \n",
    "                                                      dfs = dfs,\n",
    "                                                      cancer1_category_index = 3,\n",
    "                                                      iterations = 100,\n",
    "                                                      threshold = 0.04)"
   ]
  },
  {
   "cell_type": "code",
   "execution_count": 25,
   "metadata": {},
   "outputs": [
    {
     "data": {
      "text/plain": [
       "[19, 17, 27, 15, 24, 0, 18]"
      ]
     },
     "execution_count": 25,
     "metadata": {},
     "output_type": "execute_result"
    }
   ],
   "source": [
    "liver_important_biomarker_indices_in_RF = list(important_biomarkers_normal_liver.index)\n",
    "liver_important_biomarker_indices_in_RF"
   ]
  },
  {
   "cell_type": "markdown",
   "metadata": {},
   "source": [
    "### 2.3.2. Filtering through descriptive statistics of biomarkers in `Normal + Liver` samples\n",
    "\n",
    "* Uniquely high levels: `AFP`\n",
    "* Higher side filtering: `OPN` (1st), `Myeloperoxidase`(1st), `HGF` (2nd), `GDF15` (2nd)\n",
    "\n",
    "`IL-8`, being important in regulating immune response and inflammation, are not specific to any one type of cancer. For example, the same two biomarkers are two of the most important ones in separating `Normal + Breast`, `Normal + Colorectum`, and `Normal + Esophagus` samples, as shown above. And they can be found in higher levels in `Esophagus` and `Stomach` samples.\n",
    "\n",
    "`HGF` Q3 levels are close in `Liver` and `Esophagus` samples, and higher in `Stomach` samples. Since `HGF` Q3 level in `Liver` is in top 2 among cancer types, we consider it as a potential biomarker for `Liver` cancer.\n",
    "\n",
    "`OPN` Q3 levels are the highest in `Liver` samples. Hence we consider it as a potential biomarker for `Liver` cancer.\n",
    "\n",
    "`GDF15` Q3 level in `Liver` is close to that of `Esophagus` and higher in `Pancreas`. Since `GDF15` Q3 level in `Liver` is in top 2 among cancer types, we consider it as a potential biomarker for `Liver` cancer.\n",
    "\n",
    "`Myeloperoxidase` Q3 level is the highest in `Liver` samples. Hence we consider it as a potential biomarker for `Liver` cancer.\n",
    "\n",
    "`AFP` levels are the highest in `Liver` samples, and uniquely so. Hence we consider it as a potential biomarker for `Liver` cancer with uniquely high levels.\n",
    "\n",
    "As an example, we see the descriptive statistics of `AFP` in all the cancer types as well as `Normal` samples below."
   ]
  },
  {
   "cell_type": "code",
   "execution_count": null,
   "metadata": {},
   "outputs": [
    {
     "name": "stdout",
     "output_type": "stream",
     "text": [
      "\n",
      "Biomarker 0: AFP \n",
      "Outlier categories with uniquely high Q2 levels: [('Liver', 9437.215)]\n",
      "Outlier categories with uniquely high Q3 levels: [('Liver', 592839.507)]\n"
     ]
    }
   ],
   "source": []
  },
  {
   "cell_type": "code",
   "execution_count": 24,
   "metadata": {},
   "outputs": [
    {
     "name": "stdout",
     "output_type": "stream",
     "text": [
      "\n",
      "Biomarker 17: HGF \n",
      "The biomarker's Q3 level is the second highest in the given category.\n",
      "\n",
      "Biomarker 27: OPN \n",
      "The biomarker's Q3 level is the highest in the given category.\n",
      "\n",
      "Biomarker 15: GDF15 \n",
      "The biomarker's Q3 level is the second highest in the given category.\n",
      "\n",
      "Biomarker 24: Myeloperoxidase \n",
      "The biomarker's Q3 level is the highest in the given category.\n"
     ]
    }
   ],
   "source": [
    "candidates_for_higher_side_filtering = liver_important_biomarker_indices_in_RF.copy()\n",
    "candidates_for_higher_side_filtering.remove(liver_biomarkers_uniquely_high[0])\n",
    "\n",
    "liver_biomarkers_higher_side = []\n",
    "for i in candidates_for_higher_side_filtering:\n",
    "    rank = higher_side_filtering_identification(categories, dfs, biomarker_index = i, category_index = 3)\n",
    "    if rank is not None:\n",
    "        liver_biomarkers_higher_side.append(i)"
   ]
  },
  {
   "cell_type": "code",
   "execution_count": 25,
   "metadata": {},
   "outputs": [
    {
     "data": {
      "text/plain": [
       "['AFP ', 'HGF ', 'OPN ', 'GDF15 ', 'Myeloperoxidase ']"
      ]
     },
     "execution_count": 25,
     "metadata": {},
     "output_type": "execute_result"
    }
   ],
   "source": [
    "liver_selected_biomarkers = liver_biomarkers_uniquely_high + liver_biomarkers_higher_side\n",
    "\n",
    "[biomarkers[i] for i in liver_selected_biomarkers]"
   ]
  },
  {
   "cell_type": "code",
   "execution_count": 8,
   "metadata": {},
   "outputs": [
    {
     "data": {
      "image/png": "[encoded data removed]",
      "text/plain": [
       "<Figure size 1500x1500 with 9 Axes>"
      ]
     },
     "metadata": {},
     "output_type": "display_data"
    }
   ],
   "source": [
    "descriptive_statistics(categories = categories, dfs = dfs, biomarker_index = 0)"
   ]
  },
  {
   "cell_type": "markdown",
   "metadata": {},
   "source": [
    "### 2.3.3 Yuen-Welch's test of `AFP`, `OPN`, `Myeloperoxidase`, `HGF` and `GDF15` levels in `Liver` samples versus all the other cancer types"
   ]
  },
  {
   "cell_type": "code",
   "execution_count": 26,
   "metadata": {},
   "outputs": [
    {
     "name": "stdout",
     "output_type": "stream",
     "text": [
      "\n",
      "Biomarker 0: AFP \n"
     ]
    },
    {
     "data": {
      "text/html": [
       "<div>\n",
       "<style scoped>\n",
       "    .dataframe tbody tr th:only-of-type {\n",
       "        vertical-align: middle;\n",
       "    }\n",
       "\n",
       "    .dataframe tbody tr th {\n",
       "        vertical-align: top;\n",
       "    }\n",
       "\n",
       "    .dataframe thead th {\n",
       "        text-align: right;\n",
       "    }\n",
       "</style>\n",
       "<table border=\"1\" class=\"dataframe\">\n",
       "  <thead>\n",
       "    <tr style=\"text-align: right;\">\n",
       "      <th></th>\n",
       "      <th>Breast</th>\n",
       "      <th>Colorectum</th>\n",
       "      <th>Esophagus</th>\n",
       "      <th>Lung</th>\n",
       "      <th>Normal</th>\n",
       "      <th>Ovary</th>\n",
       "      <th>Pancreas</th>\n",
       "      <th>Stomach</th>\n",
       "    </tr>\n",
       "  </thead>\n",
       "  <tbody>\n",
       "    <tr>\n",
       "      <th>Liver</th>\n",
       "      <td>0.001791</td>\n",
       "      <td>0.001781</td>\n",
       "      <td>0.001816</td>\n",
       "      <td>0.001784</td>\n",
       "      <td>0.001773</td>\n",
       "      <td>0.001802</td>\n",
       "      <td>0.001904</td>\n",
       "      <td>0.001825</td>\n",
       "    </tr>\n",
       "  </tbody>\n",
       "</table>\n",
       "</div>"
      ],
      "text/plain": [
       "         Breast  Colorectum  Esophagus      Lung    Normal     Ovary  \\\n",
       "Liver  0.001791    0.001781   0.001816  0.001784  0.001773  0.001802   \n",
       "\n",
       "       Pancreas   Stomach  \n",
       "Liver  0.001904  0.001825  "
      ]
     },
     "metadata": {},
     "output_type": "display_data"
    },
    {
     "name": "stdout",
     "output_type": "stream",
     "text": [
      "\n",
      "Biomarker 17: HGF  didn't pass the p-value cutoff.\n"
     ]
    },
    {
     "data": {
      "text/html": [
       "<div>\n",
       "<style scoped>\n",
       "    .dataframe tbody tr th:only-of-type {\n",
       "        vertical-align: middle;\n",
       "    }\n",
       "\n",
       "    .dataframe tbody tr th {\n",
       "        vertical-align: top;\n",
       "    }\n",
       "\n",
       "    .dataframe thead th {\n",
       "        text-align: right;\n",
       "    }\n",
       "</style>\n",
       "<table border=\"1\" class=\"dataframe\">\n",
       "  <thead>\n",
       "    <tr style=\"text-align: right;\">\n",
       "      <th></th>\n",
       "      <th>Breast</th>\n",
       "      <th>Colorectum</th>\n",
       "      <th>Esophagus</th>\n",
       "      <th>Lung</th>\n",
       "      <th>Normal</th>\n",
       "      <th>Ovary</th>\n",
       "      <th>Pancreas</th>\n",
       "      <th>Stomach</th>\n",
       "    </tr>\n",
       "  </thead>\n",
       "  <tbody>\n",
       "    <tr>\n",
       "      <th>Liver</th>\n",
       "      <td>0.000034</td>\n",
       "      <td>0.000232</td>\n",
       "      <td>0.449572</td>\n",
       "      <td>0.000018</td>\n",
       "      <td>0.000009</td>\n",
       "      <td>0.000151</td>\n",
       "      <td>0.00141</td>\n",
       "      <td>0.669668</td>\n",
       "    </tr>\n",
       "  </tbody>\n",
       "</table>\n",
       "</div>"
      ],
      "text/plain": [
       "         Breast  Colorectum  Esophagus      Lung    Normal     Ovary  \\\n",
       "Liver  0.000034    0.000232   0.449572  0.000018  0.000009  0.000151   \n",
       "\n",
       "       Pancreas   Stomach  \n",
       "Liver   0.00141  0.669668  "
      ]
     },
     "metadata": {},
     "output_type": "display_data"
    },
    {
     "name": "stdout",
     "output_type": "stream",
     "text": [
      "\n",
      "Biomarker 27: OPN  didn't pass the p-value cutoff.\n"
     ]
    },
    {
     "data": {
      "text/html": [
       "<div>\n",
       "<style scoped>\n",
       "    .dataframe tbody tr th:only-of-type {\n",
       "        vertical-align: middle;\n",
       "    }\n",
       "\n",
       "    .dataframe tbody tr th {\n",
       "        vertical-align: top;\n",
       "    }\n",
       "\n",
       "    .dataframe thead th {\n",
       "        text-align: right;\n",
       "    }\n",
       "</style>\n",
       "<table border=\"1\" class=\"dataframe\">\n",
       "  <thead>\n",
       "    <tr style=\"text-align: right;\">\n",
       "      <th></th>\n",
       "      <th>Breast</th>\n",
       "      <th>Colorectum</th>\n",
       "      <th>Esophagus</th>\n",
       "      <th>Lung</th>\n",
       "      <th>Normal</th>\n",
       "      <th>Ovary</th>\n",
       "      <th>Pancreas</th>\n",
       "      <th>Stomach</th>\n",
       "    </tr>\n",
       "  </thead>\n",
       "  <tbody>\n",
       "    <tr>\n",
       "      <th>Liver</th>\n",
       "      <td>1.681269e-07</td>\n",
       "      <td>0.000036</td>\n",
       "      <td>0.126098</td>\n",
       "      <td>4.412999e-07</td>\n",
       "      <td>1.271855e-09</td>\n",
       "      <td>0.00003</td>\n",
       "      <td>0.000247</td>\n",
       "      <td>0.064973</td>\n",
       "    </tr>\n",
       "  </tbody>\n",
       "</table>\n",
       "</div>"
      ],
      "text/plain": [
       "             Breast  Colorectum  Esophagus          Lung        Normal  \\\n",
       "Liver  1.681269e-07    0.000036   0.126098  4.412999e-07  1.271855e-09   \n",
       "\n",
       "         Ovary  Pancreas   Stomach  \n",
       "Liver  0.00003  0.000247  0.064973  "
      ]
     },
     "metadata": {},
     "output_type": "display_data"
    },
    {
     "name": "stdout",
     "output_type": "stream",
     "text": [
      "\n",
      "Biomarker 15: GDF15  didn't pass the p-value cutoff.\n"
     ]
    },
    {
     "data": {
      "text/html": [
       "<div>\n",
       "<style scoped>\n",
       "    .dataframe tbody tr th:only-of-type {\n",
       "        vertical-align: middle;\n",
       "    }\n",
       "\n",
       "    .dataframe tbody tr th {\n",
       "        vertical-align: top;\n",
       "    }\n",
       "\n",
       "    .dataframe thead th {\n",
       "        text-align: right;\n",
       "    }\n",
       "</style>\n",
       "<table border=\"1\" class=\"dataframe\">\n",
       "  <thead>\n",
       "    <tr style=\"text-align: right;\">\n",
       "      <th></th>\n",
       "      <th>Breast</th>\n",
       "      <th>Colorectum</th>\n",
       "      <th>Esophagus</th>\n",
       "      <th>Lung</th>\n",
       "      <th>Normal</th>\n",
       "      <th>Ovary</th>\n",
       "      <th>Pancreas</th>\n",
       "      <th>Stomach</th>\n",
       "    </tr>\n",
       "  </thead>\n",
       "  <tbody>\n",
       "    <tr>\n",
       "      <th>Liver</th>\n",
       "      <td>4.226823e-07</td>\n",
       "      <td>0.003002</td>\n",
       "      <td>0.217993</td>\n",
       "      <td>0.000041</td>\n",
       "      <td>5.117955e-08</td>\n",
       "      <td>0.015416</td>\n",
       "      <td>0.404266</td>\n",
       "      <td>0.05992</td>\n",
       "    </tr>\n",
       "  </tbody>\n",
       "</table>\n",
       "</div>"
      ],
      "text/plain": [
       "             Breast  Colorectum  Esophagus      Lung        Normal     Ovary  \\\n",
       "Liver  4.226823e-07    0.003002   0.217993  0.000041  5.117955e-08  0.015416   \n",
       "\n",
       "       Pancreas  Stomach  \n",
       "Liver  0.404266  0.05992  "
      ]
     },
     "metadata": {},
     "output_type": "display_data"
    },
    {
     "name": "stdout",
     "output_type": "stream",
     "text": [
      "\n",
      "Biomarker 24: Myeloperoxidase  didn't pass the p-value cutoff.\n"
     ]
    },
    {
     "data": {
      "text/html": [
       "<div>\n",
       "<style scoped>\n",
       "    .dataframe tbody tr th:only-of-type {\n",
       "        vertical-align: middle;\n",
       "    }\n",
       "\n",
       "    .dataframe tbody tr th {\n",
       "        vertical-align: top;\n",
       "    }\n",
       "\n",
       "    .dataframe thead th {\n",
       "        text-align: right;\n",
       "    }\n",
       "</style>\n",
       "<table border=\"1\" class=\"dataframe\">\n",
       "  <thead>\n",
       "    <tr style=\"text-align: right;\">\n",
       "      <th></th>\n",
       "      <th>Breast</th>\n",
       "      <th>Colorectum</th>\n",
       "      <th>Esophagus</th>\n",
       "      <th>Lung</th>\n",
       "      <th>Normal</th>\n",
       "      <th>Ovary</th>\n",
       "      <th>Pancreas</th>\n",
       "      <th>Stomach</th>\n",
       "    </tr>\n",
       "  </thead>\n",
       "  <tbody>\n",
       "    <tr>\n",
       "      <th>Liver</th>\n",
       "      <td>0.000203</td>\n",
       "      <td>0.000519</td>\n",
       "      <td>0.378072</td>\n",
       "      <td>0.00007</td>\n",
       "      <td>0.000049</td>\n",
       "      <td>0.000367</td>\n",
       "      <td>0.000153</td>\n",
       "      <td>0.280572</td>\n",
       "    </tr>\n",
       "  </tbody>\n",
       "</table>\n",
       "</div>"
      ],
      "text/plain": [
       "         Breast  Colorectum  Esophagus     Lung    Normal     Ovary  Pancreas  \\\n",
       "Liver  0.000203    0.000519   0.378072  0.00007  0.000049  0.000367  0.000153   \n",
       "\n",
       "        Stomach  \n",
       "Liver  0.280572  "
      ]
     },
     "metadata": {},
     "output_type": "display_data"
    }
   ],
   "source": [
    "liver_finalized_biomarkers = []\n",
    "for i in liver_selected_biomarkers:\n",
    "    has_p_values_greater_than_threshold, p_df = full_ywtest(cancer_category_index = 3, \n",
    "                                                            biomarker_index = i, \n",
    "                                                            categories = categories, \n",
    "                                                            dfs = dfs,\n",
    "                                                            p_threshold = 0.05)\n",
    "    if not has_p_values_greater_than_threshold:\n",
    "        liver_finalized_biomarkers.append(i)\n",
    "        print(f\"\\nBiomarker {i}: {biomarkers[i]}\")\n",
    "        display(p_df)\n",
    "    else:\n",
    "        print(f\"\\nBiomarker {i}: {biomarkers[i]} didn't pass the p-value cutoff.\")\n",
    "        display(p_df)"
   ]
  },
  {
   "cell_type": "markdown",
   "metadata": {},
   "source": [
    "## 2.4. RandomForest accuracy scores for classifying liver, ovarian, and pancreatic cancers from normal ones  "
   ]
  },
  {
   "cell_type": "markdown",
   "metadata": {},
   "source": [
    "### 2.4.1. Normal + Liver with `AFP`, `OPN`, `Myeloperoxidase` and `HGF`"
   ]
  },
  {
   "cell_type": "code",
   "execution_count": 31,
   "metadata": {},
   "outputs": [
    {
     "name": "stdout",
     "output_type": "stream",
     "text": [
      "Random forest classification: Normal + Liver\n",
      "\n",
      "Average Accuracy over 100 iterations: 0.9094\n",
      "\n",
      "Biomarkers with Importance >= 0.05:\n",
      "          Biomarker  Importance\n",
      "1              HGF     0.369964\n",
      "3              OPN     0.358134\n",
      "0              AFP     0.138340\n",
      "2  Myeloperoxidase     0.133563\n"
     ]
    },
    {
     "data": {
      "text/html": [
       "<div>\n",
       "<style scoped>\n",
       "    .dataframe tbody tr th:only-of-type {\n",
       "        vertical-align: middle;\n",
       "    }\n",
       "\n",
       "    .dataframe tbody tr th {\n",
       "        vertical-align: top;\n",
       "    }\n",
       "\n",
       "    .dataframe thead th {\n",
       "        text-align: right;\n",
       "    }\n",
       "</style>\n",
       "<table border=\"1\" class=\"dataframe\">\n",
       "  <thead>\n",
       "    <tr style=\"text-align: right;\">\n",
       "      <th></th>\n",
       "      <th>Biomarker</th>\n",
       "      <th>Importance</th>\n",
       "    </tr>\n",
       "  </thead>\n",
       "  <tbody>\n",
       "    <tr>\n",
       "      <th>1</th>\n",
       "      <td>HGF</td>\n",
       "      <td>0.369964</td>\n",
       "    </tr>\n",
       "    <tr>\n",
       "      <th>3</th>\n",
       "      <td>OPN</td>\n",
       "      <td>0.358134</td>\n",
       "    </tr>\n",
       "    <tr>\n",
       "      <th>0</th>\n",
       "      <td>AFP</td>\n",
       "      <td>0.138340</td>\n",
       "    </tr>\n",
       "    <tr>\n",
       "      <th>2</th>\n",
       "      <td>Myeloperoxidase</td>\n",
       "      <td>0.133563</td>\n",
       "    </tr>\n",
       "  </tbody>\n",
       "</table>\n",
       "</div>"
      ],
      "text/plain": [
       "          Biomarker  Importance\n",
       "1              HGF     0.369964\n",
       "3              OPN     0.358134\n",
       "0              AFP     0.138340\n",
       "2  Myeloperoxidase     0.133563"
      ]
     },
     "execution_count": 31,
     "metadata": {},
     "output_type": "execute_result"
    }
   ],
   "source": [
    "rf_normal_cancers(categories = categories, \n",
    "                  dfs = dfs,\n",
    "                  cancer1_category_index = 3,\n",
    "                  selected_biomarkers = np.array([0, 17, 24, 27]),\n",
    "                  test_size = 0.2,\n",
    "                  iterations = 100,\n",
    "                  threshold = 0.05)"
   ]
  },
  {
   "cell_type": "markdown",
   "metadata": {},
   "source": [
    "### 2.4.2. Normal + Ovary with `CA-125` and `Prolactin`"
   ]
  },
  {
   "cell_type": "code",
   "execution_count": 33,
   "metadata": {},
   "outputs": [
    {
     "name": "stdout",
     "output_type": "stream",
     "text": [
      "Random forest classification: Normal + Ovary\n",
      "\n",
      "Average Accuracy over 100 iterations: 0.9614\n",
      "\n",
      "Biomarkers with Importance >= 0.05:\n",
      "    Biomarker  Importance\n",
      "0     CA-125     0.546223\n",
      "1  Prolactin     0.453777\n"
     ]
    },
    {
     "data": {
      "text/html": [
       "<div>\n",
       "<style scoped>\n",
       "    .dataframe tbody tr th:only-of-type {\n",
       "        vertical-align: middle;\n",
       "    }\n",
       "\n",
       "    .dataframe tbody tr th {\n",
       "        vertical-align: top;\n",
       "    }\n",
       "\n",
       "    .dataframe thead th {\n",
       "        text-align: right;\n",
       "    }\n",
       "</style>\n",
       "<table border=\"1\" class=\"dataframe\">\n",
       "  <thead>\n",
       "    <tr style=\"text-align: right;\">\n",
       "      <th></th>\n",
       "      <th>Biomarker</th>\n",
       "      <th>Importance</th>\n",
       "    </tr>\n",
       "  </thead>\n",
       "  <tbody>\n",
       "    <tr>\n",
       "      <th>0</th>\n",
       "      <td>CA-125</td>\n",
       "      <td>0.546223</td>\n",
       "    </tr>\n",
       "    <tr>\n",
       "      <th>1</th>\n",
       "      <td>Prolactin</td>\n",
       "      <td>0.453777</td>\n",
       "    </tr>\n",
       "  </tbody>\n",
       "</table>\n",
       "</div>"
      ],
      "text/plain": [
       "    Biomarker  Importance\n",
       "0     CA-125     0.546223\n",
       "1  Prolactin     0.453777"
      ]
     },
     "execution_count": 33,
     "metadata": {},
     "output_type": "execute_result"
    }
   ],
   "source": [
    "# Biomarkers: [{3: CA-125}, {29: Prolactin}]\n",
    "rf_normal_cancers(categories = categories, \n",
    "                  dfs = dfs,\n",
    "                  cancer1_category_index = 6,\n",
    "                  selected_biomarkers = np.array([3, 29]),\n",
    "                  test_size = 0.2,\n",
    "                  iterations = 100,\n",
    "                  threshold = 0.05)"
   ]
  },
  {
   "cell_type": "markdown",
   "metadata": {},
   "source": [
    "### 2.4.3. Normal + Pancreas with `CA19-9`, `sHER2/sEGFR2/sErbB2` and `Midkine`"
   ]
  },
  {
   "cell_type": "code",
   "execution_count": 32,
   "metadata": {},
   "outputs": [
    {
     "name": "stdout",
     "output_type": "stream",
     "text": [
      "Random forest classification: Normal + Pancreas\n",
      "\n",
      "Average Accuracy over 100 iterations: 0.9016\n",
      "\n",
      "Biomarkers with Importance >= 0.05:\n",
      "              Biomarker  Importance\n",
      "0               CA19-9     0.411338\n",
      "2  sHER2/sEGFR2/sErbB2     0.313701\n",
      "1              Midkine     0.274961\n"
     ]
    },
    {
     "data": {
      "text/html": [
       "<div>\n",
       "<style scoped>\n",
       "    .dataframe tbody tr th:only-of-type {\n",
       "        vertical-align: middle;\n",
       "    }\n",
       "\n",
       "    .dataframe tbody tr th {\n",
       "        vertical-align: top;\n",
       "    }\n",
       "\n",
       "    .dataframe thead th {\n",
       "        text-align: right;\n",
       "    }\n",
       "</style>\n",
       "<table border=\"1\" class=\"dataframe\">\n",
       "  <thead>\n",
       "    <tr style=\"text-align: right;\">\n",
       "      <th></th>\n",
       "      <th>Biomarker</th>\n",
       "      <th>Importance</th>\n",
       "    </tr>\n",
       "  </thead>\n",
       "  <tbody>\n",
       "    <tr>\n",
       "      <th>0</th>\n",
       "      <td>CA19-9</td>\n",
       "      <td>0.411338</td>\n",
       "    </tr>\n",
       "    <tr>\n",
       "      <th>2</th>\n",
       "      <td>sHER2/sEGFR2/sErbB2</td>\n",
       "      <td>0.313701</td>\n",
       "    </tr>\n",
       "    <tr>\n",
       "      <th>1</th>\n",
       "      <td>Midkine</td>\n",
       "      <td>0.274961</td>\n",
       "    </tr>\n",
       "  </tbody>\n",
       "</table>\n",
       "</div>"
      ],
      "text/plain": [
       "              Biomarker  Importance\n",
       "0               CA19-9     0.411338\n",
       "2  sHER2/sEGFR2/sErbB2     0.313701\n",
       "1              Midkine     0.274961"
      ]
     },
     "execution_count": 32,
     "metadata": {},
     "output_type": "execute_result"
    }
   ],
   "source": [
    "rf_normal_cancers(categories = categories, \n",
    "                  dfs = dfs,\n",
    "                  cancer1_category_index = 7,\n",
    "                  selected_biomarkers = np.array([5, 23, 33]),\n",
    "                  test_size = 0.2,\n",
    "                  iterations = 100,\n",
    "                  threshold = 0.05)"
   ]
  },
  {
   "cell_type": "markdown",
   "metadata": {},
   "source": [
    "### 2.4.4. Normal + Liver + Ovary + Pancreas"
   ]
  },
  {
   "cell_type": "code",
   "execution_count": 34,
   "metadata": {},
   "outputs": [
    {
     "name": "stdout",
     "output_type": "stream",
     "text": [
      "Random forest classification: Normal + Liver + Ovary + Pancreas\n",
      "\n",
      "Average Accuracy over 100 iterations: 0.8317\n",
      "\n",
      "Biomarkers with Importance >= 0.05:\n",
      "              Biomarker  Importance\n",
      "4               CA-125     0.179271\n",
      "8  sHER2/sEGFR2/sErbB2     0.146810\n",
      "3                  OPN     0.116334\n",
      "6               CA19-9     0.114139\n",
      "1                  HGF     0.108632\n",
      "0                  AFP     0.101133\n",
      "5            Prolactin     0.095321\n",
      "2      Myeloperoxidase     0.080476\n",
      "7              Midkine     0.057883\n"
     ]
    },
    {
     "data": {
      "text/html": [
       "<div>\n",
       "<style scoped>\n",
       "    .dataframe tbody tr th:only-of-type {\n",
       "        vertical-align: middle;\n",
       "    }\n",
       "\n",
       "    .dataframe tbody tr th {\n",
       "        vertical-align: top;\n",
       "    }\n",
       "\n",
       "    .dataframe thead th {\n",
       "        text-align: right;\n",
       "    }\n",
       "</style>\n",
       "<table border=\"1\" class=\"dataframe\">\n",
       "  <thead>\n",
       "    <tr style=\"text-align: right;\">\n",
       "      <th></th>\n",
       "      <th>Biomarker</th>\n",
       "      <th>Importance</th>\n",
       "    </tr>\n",
       "  </thead>\n",
       "  <tbody>\n",
       "    <tr>\n",
       "      <th>4</th>\n",
       "      <td>CA-125</td>\n",
       "      <td>0.179271</td>\n",
       "    </tr>\n",
       "    <tr>\n",
       "      <th>8</th>\n",
       "      <td>sHER2/sEGFR2/sErbB2</td>\n",
       "      <td>0.146810</td>\n",
       "    </tr>\n",
       "    <tr>\n",
       "      <th>3</th>\n",
       "      <td>OPN</td>\n",
       "      <td>0.116334</td>\n",
       "    </tr>\n",
       "    <tr>\n",
       "      <th>6</th>\n",
       "      <td>CA19-9</td>\n",
       "      <td>0.114139</td>\n",
       "    </tr>\n",
       "    <tr>\n",
       "      <th>1</th>\n",
       "      <td>HGF</td>\n",
       "      <td>0.108632</td>\n",
       "    </tr>\n",
       "    <tr>\n",
       "      <th>0</th>\n",
       "      <td>AFP</td>\n",
       "      <td>0.101133</td>\n",
       "    </tr>\n",
       "    <tr>\n",
       "      <th>5</th>\n",
       "      <td>Prolactin</td>\n",
       "      <td>0.095321</td>\n",
       "    </tr>\n",
       "    <tr>\n",
       "      <th>2</th>\n",
       "      <td>Myeloperoxidase</td>\n",
       "      <td>0.080476</td>\n",
       "    </tr>\n",
       "    <tr>\n",
       "      <th>7</th>\n",
       "      <td>Midkine</td>\n",
       "      <td>0.057883</td>\n",
       "    </tr>\n",
       "  </tbody>\n",
       "</table>\n",
       "</div>"
      ],
      "text/plain": [
       "              Biomarker  Importance\n",
       "4               CA-125     0.179271\n",
       "8  sHER2/sEGFR2/sErbB2     0.146810\n",
       "3                  OPN     0.116334\n",
       "6               CA19-9     0.114139\n",
       "1                  HGF     0.108632\n",
       "0                  AFP     0.101133\n",
       "5            Prolactin     0.095321\n",
       "2      Myeloperoxidase     0.080476\n",
       "7              Midkine     0.057883"
      ]
     },
     "execution_count": 34,
     "metadata": {},
     "output_type": "execute_result"
    }
   ],
   "source": [
    "rf_normal_cancers(categories = categories, \n",
    "                  dfs = dfs,\n",
    "                  cancer1_category_index = 3,\n",
    "                  cancer2_category_index = 6,\n",
    "                  cancer3_category_index = 7,\n",
    "                  selected_biomarkers = np.array([0, 17, 24, 27, 3, 29, 5, 23, 33]),\n",
    "                  test_size = 0.2,\n",
    "                  iterations = 100,\n",
    "                  threshold = 0.05)"
   ]
  },
  {
   "cell_type": "markdown",
   "metadata": {},
   "source": [
    "# 3. Analysis of `Breast` and `Colorectum` samples, taken together with random subsamples of `Normal` samples\n",
    "\n",
    "Now we see two cancer types for which the important biomarkers given by random forest classifier are not suitable in practical scenario for distinguishing between different cancer types from normal samples. None of the biomarkers display uniquely high level for the particular cancer type, and none can be found with Q3 level in top 2 among all the cancer types. "
   ]
  },
  {
   "cell_type": "markdown",
   "metadata": {},
   "source": [
    "## 3.1. Analysis of `Normal + Breast` samples"
   ]
  },
  {
   "cell_type": "markdown",
   "metadata": {},
   "source": [
    "### 3.1.1. Random forest classification for `Normal + Breast` samples"
   ]
  },
  {
   "cell_type": "code",
   "execution_count": 7,
   "metadata": {},
   "outputs": [
    {
     "name": "stdout",
     "output_type": "stream",
     "text": [
      "Random forest classification: Normal + Breast\n",
      "\n",
      "Average Accuracy over 100 iterations: 0.9630\n",
      "\n",
      "Biomarkers with Importance >= 0.04:\n",
      "      Biomarker  Importance\n",
      "35        TGFa     0.100919\n",
      "19        IL-8     0.087020\n",
      "18        IL-6     0.085325\n",
      "29   Prolactin     0.055615\n",
      "8   CYFRA 21-1     0.052147\n",
      "27         OPN     0.048404\n",
      "16         HE4     0.046379\n",
      "30       sEGFR     0.043890\n"
     ]
    }
   ],
   "source": [
    "important_biomarkers_normal_breast = rf_normal_cancers(categories = categories, \n",
    "                                                       dfs = dfs,\n",
    "                                                       cancer1_category_index = 0,\n",
    "                                                       iterations = 100,\n",
    "                                                       threshold = 0.04)"
   ]
  },
  {
   "cell_type": "markdown",
   "metadata": {},
   "source": [
    "And here's list of biomarkers that were selected by random forest classifier for `Normal + Breast` samples."
   ]
  },
  {
   "cell_type": "code",
   "execution_count": 11,
   "metadata": {},
   "outputs": [
    {
     "data": {
      "text/plain": [
       "[35, 19, 18, 29, 8, 27, 16, 30]"
      ]
     },
     "execution_count": 11,
     "metadata": {},
     "output_type": "execute_result"
    }
   ],
   "source": [
    "breast_important_biomarker_indices_in_RF = list(important_biomarkers_normal_breast.index)\n",
    "breast_important_biomarker_indices_in_RF"
   ]
  },
  {
   "cell_type": "markdown",
   "metadata": {},
   "source": [
    "### 3.1.2. Filtering through descriptive statistics of biomarkers in `Normal + Breast` samples\n",
    "\n",
    "* Uniquely high levels: None\n",
    "* Higher side filtering: None\n",
    "\n",
    "Note that, `IL-8` and `IL-6`, being important in regulating immune response and inflammation, are not specific to any one type of cancer. For example, the same two biomarkers are the most important ones in seperating `Normal` and `Colorectum` samples, as shown below. And they can be found in higher levels in some other cancer types. In fact, `IL-6` and `IL-8` Q3 value is the lowest in `Breast` samples among all the cancer types.\n",
    "\n",
    "Also, we can have a look at the descriptive statistics of `TGFa` to see that it's Q1, Q2 and Q3 values are very close, and in some cases virtually indistinguishable, in `Breast`, `Colorectum`, `Lung`, `Pancreas` and even `Normal` samples.\n",
    "\n",
    "`Prolactin` levels are much higher in `Liver`, `Lung` and `Ovary` samples than in `Breast` samples.\n",
    "\n",
    "`CYFRA 21-1` Q1, Q2 and Q3 values are very close in `Breast` and `Colorectum` samples, and can be found in higher levels in the other cancer types. In fact, the Q3 value of `CYFRA 21-1` is the lowest in `Breast` samples among all the cancer types.\n",
    "\n",
    "`OPN` Q3 levels are the lowest in `Breast` samples among all the cancer types.\n",
    "\n",
    "`HE4` Q3 levels are the lowest in `Breast` samples among all the cancer types, and even `Normal` samples.\n",
    "\n",
    "`sEGFR` Q3 levels are higher in `Colorectum`, `Ovary`, `Pancreas` cancer types, and even `Normal` samples."
   ]
  },
  {
   "cell_type": "markdown",
   "metadata": {},
   "source": [
    "Now, we see that none of the biomarkers selected by Random Forest is present in uniquely high levels in the `Breast` samples."
   ]
  },
  {
   "cell_type": "code",
   "execution_count": 14,
   "metadata": {},
   "outputs": [
    {
     "data": {
      "text/plain": [
       "[]"
      ]
     },
     "execution_count": 14,
     "metadata": {},
     "output_type": "execute_result"
    }
   ],
   "source": [
    "breast_biomarkers_uniquely_high = []\n",
    "for i in breast_important_biomarker_indices_in_RF:\n",
    "    high_level_found = uniquely_high_level_identification(categories, dfs, biomarker_index = i)[0]\n",
    "    if high_level_found is not None:\n",
    "        breast_biomarkers_uniquely_high.append(i)\n",
    "        \n",
    "breast_biomarkers_uniquely_high"
   ]
  },
  {
   "cell_type": "markdown",
   "metadata": {},
   "source": [
    "And none satisfy the higher side filtering criterion."
   ]
  },
  {
   "cell_type": "code",
   "execution_count": 18,
   "metadata": {},
   "outputs": [
    {
     "data": {
      "text/plain": [
       "[]"
      ]
     },
     "execution_count": 18,
     "metadata": {},
     "output_type": "execute_result"
    }
   ],
   "source": [
    "breast_candidates_for_higher_side_filtering = breast_important_biomarker_indices_in_RF.copy()\n",
    "if breast_biomarkers_uniquely_high != []:\n",
    "    breast_candidates_for_higher_side_filtering.remove(breast_biomarkers_uniquely_high[0])\n",
    "\n",
    "breast_biomarkers_higher_side = []\n",
    "for i in breast_candidates_for_higher_side_filtering:\n",
    "    rank = higher_side_filtering_identification(categories, dfs, biomarker_index = i, category_index = 0)\n",
    "    if rank is not None:\n",
    "        breast_biomarkers_higher_side.append(i)\n",
    "        \n",
    "breast_biomarkers_higher_side"
   ]
  },
  {
   "cell_type": "markdown",
   "metadata": {},
   "source": [
    "So, we've got no biomarker left at the end of the filtering process."
   ]
  },
  {
   "cell_type": "markdown",
   "metadata": {},
   "source": [
    "## 3.2. Analysis of `Normal + Colorectum` samples"
   ]
  },
  {
   "cell_type": "markdown",
   "metadata": {},
   "source": [
    "### 3.2.1. Random forest classification for `Normal + Colorectum` samples"
   ]
  },
  {
   "cell_type": "code",
   "execution_count": 9,
   "metadata": {},
   "outputs": [
    {
     "name": "stdout",
     "output_type": "stream",
     "text": [
      "Random forest classification: Normal + Colorectum\n",
      "\n",
      "Average Accuracy over 100 iterations: 0.9576\n",
      "\n",
      "Biomarkers with Importance >= 0.04:\n",
      "     Biomarker  Importance\n",
      "19       IL-8     0.135958\n",
      "18       IL-6     0.095141\n",
      "27        OPN     0.090611\n",
      "17        HGF     0.061261\n",
      "15      GDF15     0.058960\n",
      "31       sFas     0.057872\n",
      "29  Prolactin     0.054625\n"
     ]
    }
   ],
   "source": [
    "important_biomarkers_normal_colorectum = rf_normal_cancers(categories = categories, \n",
    "                                                           dfs = dfs,\n",
    "                                                           cancer1_category_index = 1,\n",
    "                                                           iterations = 100,\n",
    "                                                           threshold = 0.04)"
   ]
  },
  {
   "cell_type": "markdown",
   "metadata": {},
   "source": [
    "### 3.2.2. Filtering through descriptive statistics of biomarkers in `Normal + Colorectum` samples\n",
    "\n",
    "* Uniquely high levels: None\n",
    "* Higher side filtering: None\n",
    "\n",
    "Note that, `IL-8` and `IL-6`, being important in regulating immune response and inflammation, are not specific to any one type of cancer. For example, the same two biomarkers are two of the most important ones in separating `Normal` and `Breast` samples, as shown above. And they can be found in higher levels in some other cancer types, such as `Esophagus`, `Liver` and `Lung` samples.\n",
    "\n",
    "`OPN` Q3 levels are much higher in `Esophagus`, `Liver`, and `Stomach` samples than in `Colorectum` samples.\n",
    "\n",
    "`HGF` Q3 levels are higher in `Pancreas` samples, and much higher in `Esophagus`, `Liver`, and `Stomach` samples than in `Colorectum` samples.\n",
    "\n",
    "`GDF15` Q3 levels are close in `Colorectum` and Ovary samples, and higher in `Esophagus`, `Liver`, `Stomach` and `Pancreas` samples than in `Colorectum` samples.\n",
    "\n",
    "`sFas` Q3 levels are higher in `Breast`, `Esophagus`, `Liver`, `Lung`, `Pancreas`, `Stomach` and even `Normal` samples than in `Colorectum` samples.\n",
    "\n",
    "`Prolactin` levels are much higher in `Liver`, `Lung` and `Ovary` samples than in `Colorectum` samples.\n",
    "\n"
   ]
  },
  {
   "cell_type": "markdown",
   "metadata": {},
   "source": [
    "# 4. Analysis of `Esophagus`, `Lung` and `Stomach` samples, taken together with random subsamples of `Normal` samples"
   ]
  },
  {
   "cell_type": "markdown",
   "metadata": {},
   "source": [
    "### 4.1. Random forest classification for `Normal + Esophagus` samples\n",
    "\n",
    "* Uniquely high levels: None\n",
    "* Higher side filtering: `IL-6`(1st), `TIMP-1` (1st), `IL-8` (2nd), `OPN` (2nd), `Myeloperoxidase` (2nd)\n",
    "\n",
    "`OPN` Q2 and Q3 levels are close in `Esophagus` and `Stomach` samples, and higher in `Liver` samples. Since `OPN` Q3 level in `Esophagus` is in top 2 among cancer types, we consider it as a potential biomarker for `Esophagus` cancer.\n",
    "\n",
    "`HGF` Q3 levels are higher in `Liver` and `Stomach` samples.\n",
    "\n",
    "`IL-6` and `IL-8`, being important in regulating immune response and inflammation, are not specific to any one type of cancer. For example, the same two biomarkers are two of the most important ones in separating `Normal` and `Breast` samples, and also `Normal` and `Colorectum` samples, as shown above. But `IL-6` and `IL-8` Q3 level in `Esophagus` is in top 2 among cancer types, and we consider it as a potential biomarker for `Esophagus` cancer.\n",
    "\n",
    "`Myeloperoxidase` Q3 levels are higher only in `Liver` samples. Since `Myeloperoxidase` Q3 level in `Esophagus` is in top 2 among cancer types, we consider it as a potential biomarker for `Esophagus` cancer.\n",
    "\n",
    "`GDF15` Q3 levels are higher in `Liver` and `Pancreas` samples.\n",
    "\n",
    "`TIMP-1`: Despite being present in high levels in `Liver`, `Ovary`, `Pancreas` and `Stomach` samples, `TIMP-1` Q3 levels are the highest in `Esophagus` samples. Hence, we consider it as a potential biomarker for `Esophagus` cancer.\n",
    "\n",
    "`sEGFR` levels are higher in almost all cancer types and even `Normal` samples, except `Stomach` samples."
   ]
  },
  {
   "cell_type": "code",
   "execution_count": 35,
   "metadata": {},
   "outputs": [
    {
     "name": "stdout",
     "output_type": "stream",
     "text": [
      "Random forest classification: Normal + Esophagus\n",
      "\n",
      "Average Accuracy over 100 iterations: 0.8617\n",
      "\n",
      "Biomarkers with Importance >= 0.04:\n",
      "           Biomarker  Importance\n",
      "27              OPN     0.098270\n",
      "17              HGF     0.096577\n",
      "18             IL-6     0.078884\n",
      "19             IL-8     0.068289\n",
      "24  Myeloperoxidase     0.060353\n",
      "15            GDF15     0.060257\n",
      "37           TIMP-1     0.051771\n",
      "30            sEGFR     0.040355\n"
     ]
    }
   ],
   "source": [
    "important_biomarkers_normal_esophagus = rf_normal_cancers(categories = categories, \n",
    "                                                          dfs = dfs,\n",
    "                                                          cancer1_category_index = 2,\n",
    "                                                          iterations = 100,\n",
    "                                                          threshold = 0.04)"
   ]
  },
  {
   "cell_type": "code",
   "execution_count": 36,
   "metadata": {},
   "outputs": [
    {
     "data": {
      "text/plain": [
       "[27, 17, 18, 19, 24, 15, 37, 30]"
      ]
     },
     "execution_count": 36,
     "metadata": {},
     "output_type": "execute_result"
    }
   ],
   "source": [
    "esophagus_important_biomarker_indices_in_RF = list(important_biomarkers_normal_esophagus.index)\n",
    "esophagus_important_biomarker_indices_in_RF"
   ]
  },
  {
   "cell_type": "code",
   "execution_count": 37,
   "metadata": {},
   "outputs": [],
   "source": [
    "esophagus_biomarkers_uniquely_high = []\n",
    "for i in esophagus_important_biomarker_indices_in_RF:\n",
    "    high_level_found = uniquely_high_level_identification(categories, dfs, biomarker_index = i)[0]\n",
    "    if high_level_found is not None:\n",
    "        esophagus_biomarkers_uniquely_high.append(i)"
   ]
  },
  {
   "cell_type": "code",
   "execution_count": 39,
   "metadata": {},
   "outputs": [
    {
     "name": "stdout",
     "output_type": "stream",
     "text": [
      "\n",
      "Biomarker 27: OPN \n",
      "The biomarker's Q3 level is the second highest in the given category.\n",
      "\n",
      "Biomarker 18: IL-6 \n",
      "The biomarker's Q3 level is the highest in the given category.\n",
      "\n",
      "Biomarker 19: IL-8 \n",
      "The biomarker's Q3 level is the second highest in the given category.\n",
      "\n",
      "Biomarker 24: Myeloperoxidase \n",
      "The biomarker's Q3 level is the second highest in the given category.\n",
      "\n",
      "Biomarker 37: TIMP-1 \n",
      "The biomarker's Q3 level is the highest in the given category.\n"
     ]
    }
   ],
   "source": [
    "candidates_for_higher_side_filtering = esophagus_important_biomarker_indices_in_RF.copy()\n",
    "if esophagus_biomarkers_uniquely_high != []:\n",
    "    candidates_for_higher_side_filtering.remove(esophagus_biomarkers_uniquely_high[0])\n",
    "\n",
    "esophagus_biomarkers_higher_side = []\n",
    "for i in candidates_for_higher_side_filtering:\n",
    "    rank = higher_side_filtering_identification(categories, dfs, biomarker_index = i, category_index = 2)\n",
    "    if rank is not None:\n",
    "        esophagus_biomarkers_higher_side.append(i)"
   ]
  },
  {
   "cell_type": "code",
   "execution_count": 41,
   "metadata": {},
   "outputs": [
    {
     "data": {
      "text/plain": [
       "['OPN ', 'IL-6 ', 'IL-8 ', 'Myeloperoxidase ', 'TIMP-1 ']"
      ]
     },
     "execution_count": 41,
     "metadata": {},
     "output_type": "execute_result"
    }
   ],
   "source": [
    "esophagus_selected_biomarkers = esophagus_biomarkers_uniquely_high + esophagus_biomarkers_higher_side\n",
    "\n",
    "[biomarkers[i] for i in esophagus_selected_biomarkers]"
   ]
  },
  {
   "cell_type": "code",
   "execution_count": 42,
   "metadata": {},
   "outputs": [
    {
     "name": "stdout",
     "output_type": "stream",
     "text": [
      "\n",
      "Biomarker 27: OPN  didn't pass the p-value cutoff.\n"
     ]
    },
    {
     "data": {
      "text/html": [
       "<div>\n",
       "<style scoped>\n",
       "    .dataframe tbody tr th:only-of-type {\n",
       "        vertical-align: middle;\n",
       "    }\n",
       "\n",
       "    .dataframe tbody tr th {\n",
       "        vertical-align: top;\n",
       "    }\n",
       "\n",
       "    .dataframe thead th {\n",
       "        text-align: right;\n",
       "    }\n",
       "</style>\n",
       "<table border=\"1\" class=\"dataframe\">\n",
       "  <thead>\n",
       "    <tr style=\"text-align: right;\">\n",
       "      <th></th>\n",
       "      <th>Breast</th>\n",
       "      <th>Colorectum</th>\n",
       "      <th>Liver</th>\n",
       "      <th>Lung</th>\n",
       "      <th>Normal</th>\n",
       "      <th>Ovary</th>\n",
       "      <th>Pancreas</th>\n",
       "      <th>Stomach</th>\n",
       "    </tr>\n",
       "  </thead>\n",
       "  <tbody>\n",
       "    <tr>\n",
       "      <th>Esophagus</th>\n",
       "      <td>0.000004</td>\n",
       "      <td>0.002299</td>\n",
       "      <td>0.126098</td>\n",
       "      <td>0.000015</td>\n",
       "      <td>8.602151e-09</td>\n",
       "      <td>0.002064</td>\n",
       "      <td>0.016719</td>\n",
       "      <td>0.859041</td>\n",
       "    </tr>\n",
       "  </tbody>\n",
       "</table>\n",
       "</div>"
      ],
      "text/plain": [
       "             Breast  Colorectum     Liver      Lung        Normal     Ovary  \\\n",
       "Esophagus  0.000004    0.002299  0.126098  0.000015  8.602151e-09  0.002064   \n",
       "\n",
       "           Pancreas   Stomach  \n",
       "Esophagus  0.016719  0.859041  "
      ]
     },
     "metadata": {},
     "output_type": "display_data"
    },
    {
     "name": "stdout",
     "output_type": "stream",
     "text": [
      "\n",
      "Biomarker 18: IL-6  didn't pass the p-value cutoff.\n"
     ]
    },
    {
     "data": {
      "text/html": [
       "<div>\n",
       "<style scoped>\n",
       "    .dataframe tbody tr th:only-of-type {\n",
       "        vertical-align: middle;\n",
       "    }\n",
       "\n",
       "    .dataframe tbody tr th {\n",
       "        vertical-align: top;\n",
       "    }\n",
       "\n",
       "    .dataframe thead th {\n",
       "        text-align: right;\n",
       "    }\n",
       "</style>\n",
       "<table border=\"1\" class=\"dataframe\">\n",
       "  <thead>\n",
       "    <tr style=\"text-align: right;\">\n",
       "      <th></th>\n",
       "      <th>Breast</th>\n",
       "      <th>Colorectum</th>\n",
       "      <th>Liver</th>\n",
       "      <th>Lung</th>\n",
       "      <th>Normal</th>\n",
       "      <th>Ovary</th>\n",
       "      <th>Pancreas</th>\n",
       "      <th>Stomach</th>\n",
       "    </tr>\n",
       "  </thead>\n",
       "  <tbody>\n",
       "    <tr>\n",
       "      <th>Esophagus</th>\n",
       "      <td>0.000056</td>\n",
       "      <td>0.00053</td>\n",
       "      <td>0.18638</td>\n",
       "      <td>0.012079</td>\n",
       "      <td>0.000011</td>\n",
       "      <td>0.001099</td>\n",
       "      <td>0.001523</td>\n",
       "      <td>0.001212</td>\n",
       "    </tr>\n",
       "  </tbody>\n",
       "</table>\n",
       "</div>"
      ],
      "text/plain": [
       "             Breast  Colorectum    Liver      Lung    Normal     Ovary  \\\n",
       "Esophagus  0.000056     0.00053  0.18638  0.012079  0.000011  0.001099   \n",
       "\n",
       "           Pancreas   Stomach  \n",
       "Esophagus  0.001523  0.001212  "
      ]
     },
     "metadata": {},
     "output_type": "display_data"
    },
    {
     "name": "stdout",
     "output_type": "stream",
     "text": [
      "\n",
      "Biomarker 19: IL-8  didn't pass the p-value cutoff.\n"
     ]
    },
    {
     "data": {
      "text/html": [
       "<div>\n",
       "<style scoped>\n",
       "    .dataframe tbody tr th:only-of-type {\n",
       "        vertical-align: middle;\n",
       "    }\n",
       "\n",
       "    .dataframe tbody tr th {\n",
       "        vertical-align: top;\n",
       "    }\n",
       "\n",
       "    .dataframe thead th {\n",
       "        text-align: right;\n",
       "    }\n",
       "</style>\n",
       "<table border=\"1\" class=\"dataframe\">\n",
       "  <thead>\n",
       "    <tr style=\"text-align: right;\">\n",
       "      <th></th>\n",
       "      <th>Breast</th>\n",
       "      <th>Colorectum</th>\n",
       "      <th>Liver</th>\n",
       "      <th>Lung</th>\n",
       "      <th>Normal</th>\n",
       "      <th>Ovary</th>\n",
       "      <th>Pancreas</th>\n",
       "      <th>Stomach</th>\n",
       "    </tr>\n",
       "  </thead>\n",
       "  <tbody>\n",
       "    <tr>\n",
       "      <th>Esophagus</th>\n",
       "      <td>0.000087</td>\n",
       "      <td>0.004256</td>\n",
       "      <td>0.396322</td>\n",
       "      <td>0.000398</td>\n",
       "      <td>0.000018</td>\n",
       "      <td>0.000807</td>\n",
       "      <td>0.269314</td>\n",
       "      <td>0.82043</td>\n",
       "    </tr>\n",
       "  </tbody>\n",
       "</table>\n",
       "</div>"
      ],
      "text/plain": [
       "             Breast  Colorectum     Liver      Lung    Normal     Ovary  \\\n",
       "Esophagus  0.000087    0.004256  0.396322  0.000398  0.000018  0.000807   \n",
       "\n",
       "           Pancreas  Stomach  \n",
       "Esophagus  0.269314  0.82043  "
      ]
     },
     "metadata": {},
     "output_type": "display_data"
    },
    {
     "name": "stdout",
     "output_type": "stream",
     "text": [
      "\n",
      "Biomarker 24: Myeloperoxidase  didn't pass the p-value cutoff.\n"
     ]
    },
    {
     "data": {
      "text/html": [
       "<div>\n",
       "<style scoped>\n",
       "    .dataframe tbody tr th:only-of-type {\n",
       "        vertical-align: middle;\n",
       "    }\n",
       "\n",
       "    .dataframe tbody tr th {\n",
       "        vertical-align: top;\n",
       "    }\n",
       "\n",
       "    .dataframe thead th {\n",
       "        text-align: right;\n",
       "    }\n",
       "</style>\n",
       "<table border=\"1\" class=\"dataframe\">\n",
       "  <thead>\n",
       "    <tr style=\"text-align: right;\">\n",
       "      <th></th>\n",
       "      <th>Breast</th>\n",
       "      <th>Colorectum</th>\n",
       "      <th>Liver</th>\n",
       "      <th>Lung</th>\n",
       "      <th>Normal</th>\n",
       "      <th>Ovary</th>\n",
       "      <th>Pancreas</th>\n",
       "      <th>Stomach</th>\n",
       "    </tr>\n",
       "  </thead>\n",
       "  <tbody>\n",
       "    <tr>\n",
       "      <th>Esophagus</th>\n",
       "      <td>0.003723</td>\n",
       "      <td>0.009067</td>\n",
       "      <td>0.378072</td>\n",
       "      <td>0.001306</td>\n",
       "      <td>0.000913</td>\n",
       "      <td>0.006547</td>\n",
       "      <td>0.00283</td>\n",
       "      <td>0.881598</td>\n",
       "    </tr>\n",
       "  </tbody>\n",
       "</table>\n",
       "</div>"
      ],
      "text/plain": [
       "             Breast  Colorectum     Liver      Lung    Normal     Ovary  \\\n",
       "Esophagus  0.003723    0.009067  0.378072  0.001306  0.000913  0.006547   \n",
       "\n",
       "           Pancreas   Stomach  \n",
       "Esophagus   0.00283  0.881598  "
      ]
     },
     "metadata": {},
     "output_type": "display_data"
    },
    {
     "name": "stdout",
     "output_type": "stream",
     "text": [
      "\n",
      "Biomarker 37: TIMP-1  didn't pass the p-value cutoff.\n"
     ]
    },
    {
     "data": {
      "text/html": [
       "<div>\n",
       "<style scoped>\n",
       "    .dataframe tbody tr th:only-of-type {\n",
       "        vertical-align: middle;\n",
       "    }\n",
       "\n",
       "    .dataframe tbody tr th {\n",
       "        vertical-align: top;\n",
       "    }\n",
       "\n",
       "    .dataframe thead th {\n",
       "        text-align: right;\n",
       "    }\n",
       "</style>\n",
       "<table border=\"1\" class=\"dataframe\">\n",
       "  <thead>\n",
       "    <tr style=\"text-align: right;\">\n",
       "      <th></th>\n",
       "      <th>Breast</th>\n",
       "      <th>Colorectum</th>\n",
       "      <th>Liver</th>\n",
       "      <th>Lung</th>\n",
       "      <th>Normal</th>\n",
       "      <th>Ovary</th>\n",
       "      <th>Pancreas</th>\n",
       "      <th>Stomach</th>\n",
       "    </tr>\n",
       "  </thead>\n",
       "  <tbody>\n",
       "    <tr>\n",
       "      <th>Esophagus</th>\n",
       "      <td>0.000002</td>\n",
       "      <td>0.00021</td>\n",
       "      <td>0.1256</td>\n",
       "      <td>0.000007</td>\n",
       "      <td>9.282458e-07</td>\n",
       "      <td>0.164092</td>\n",
       "      <td>0.165575</td>\n",
       "      <td>0.03306</td>\n",
       "    </tr>\n",
       "  </tbody>\n",
       "</table>\n",
       "</div>"
      ],
      "text/plain": [
       "             Breast  Colorectum   Liver      Lung        Normal     Ovary  \\\n",
       "Esophagus  0.000002     0.00021  0.1256  0.000007  9.282458e-07  0.164092   \n",
       "\n",
       "           Pancreas  Stomach  \n",
       "Esophagus  0.165575  0.03306  "
      ]
     },
     "metadata": {},
     "output_type": "display_data"
    }
   ],
   "source": [
    "esophagus_finalized_biomarkers = []\n",
    "for i in esophagus_selected_biomarkers:\n",
    "    has_p_values_greater_than_threshold, p_df = full_ywtest(cancer_category_index = 2, \n",
    "                                                            biomarker_index = i, \n",
    "                                                            categories = categories, \n",
    "                                                            dfs = dfs,\n",
    "                                                            p_threshold = 0.05)\n",
    "    if not has_p_values_greater_than_threshold:\n",
    "        esophagus_finalized_biomarkers.append(i)\n",
    "        print(f\"\\nBiomarker {i}: {biomarkers[i]}\")\n",
    "        display(p_df)\n",
    "    else:\n",
    "        print(f\"\\nBiomarker {i}: {biomarkers[i]} didn't pass the p-value cutoff.\")\n",
    "        display(p_df)"
   ]
  },
  {
   "cell_type": "markdown",
   "metadata": {},
   "source": [
    "* `OPN` is shared with `Liver`. We keep it.\n",
    "`IL-6` is not in `Liver`. Dropped.\n",
    "`IL-8` p_value cutoff is not met in two comparisons. Dropped.\n",
    "``"
   ]
  },
  {
   "cell_type": "markdown",
   "metadata": {},
   "source": [
    "### 4.2. Random forest classification for `Normal + Lung` samples\n",
    "\n",
    "* Uniquely high levels: None\n",
    "* Higher side filtering: `CYFRA 21-1` (1st), `Prolactin` (2nd), `IL-6` (2nd)\n",
    "\n",
    "`NSE` Q3 level in `Lung` samples is the lowest among all the cancer types, and even the `Normal` samples.\n",
    "\n",
    "`Prolactin` Q3 levels in `Lung` samples is in the top 2 among all the cancer types. Hence we consider it a potential biomarker for `Lung` cancer.\n",
    "\n",
    "`IL-8` relatively lower.\n",
    "\n",
    "`IL-6` Q3 levels in `Lung` samples are in the top 2 among all the cancer types. Hence, we consider it as a potential biomarker for `Lung` cancer.\n",
    "\n",
    "`GDF15` relatively lower.\n",
    "\n",
    "`OPN` relatively lower.\n",
    "\n",
    "`CYFRA 21-1` Q3 levels are the highest in `Lung` samples. Hence we consider it a potential biomarker for `Lung` cancer."
   ]
  },
  {
   "cell_type": "code",
   "execution_count": 11,
   "metadata": {},
   "outputs": [
    {
     "name": "stdout",
     "output_type": "stream",
     "text": [
      "Random forest classification: Normal + Lung\n",
      "\n",
      "Average Accuracy over 100 iterations: 0.9769\n",
      "\n",
      "Biomarkers with Importance >= 0.04:\n",
      "      Biomarker  Importance\n",
      "29   Prolactin     0.156559\n",
      "19        IL-8     0.080851\n",
      "25         NSE     0.079439\n",
      "18        IL-6     0.074091\n",
      "15       GDF15     0.052625\n",
      "27         OPN     0.051229\n",
      "8   CYFRA 21-1     0.047263\n"
     ]
    }
   ],
   "source": [
    "important_biomarkers_normal_lung = rf_normal_cancers(categories = categories, \n",
    "                                                     dfs = dfs,\n",
    "                                                     cancer1_category_index = 4,\n",
    "                                                     iterations = 100,\n",
    "                                                     threshold = 0.04)"
   ]
  },
  {
   "cell_type": "markdown",
   "metadata": {},
   "source": [
    "### 4.3. Random forest classification for `Normal + Stomach` samples\n",
    "\n",
    "* Uniquely high levels: None\n",
    "* Higher side filtering: `IL-8` (1st), `HGF` (1st)\n",
    "\n",
    "`IL-6` relatively lower.\n",
    "\n",
    "`IL-8` Q3 level is the highest in `Stomach` samples. Hence, we consider it as a potential biomarker for `Stomach` cancer.\n",
    "\n",
    "`GDF15` relatively lower.\n",
    "\n",
    "`HGF` Q3 level is the highest in `Stomach` samples. Hence, we consider it as a potential biomarker for `Stomach` cancer.\n",
    "\n",
    "`sEGFR` relatively lower.\n",
    "\n",
    "`CYFRA 21-1` relatively lower.\n",
    "\n",
    "`Myeloperoxidase` Q3 levels are higher in `Liver` and `Esophagus` samples."
   ]
  },
  {
   "cell_type": "code",
   "execution_count": 12,
   "metadata": {},
   "outputs": [
    {
     "name": "stdout",
     "output_type": "stream",
     "text": [
      "Random forest classification: Normal + Stomach\n",
      "\n",
      "Average Accuracy over 100 iterations: 0.9304\n",
      "\n",
      "Biomarkers with Importance >= 0.04:\n",
      "           Biomarker  Importance\n",
      "27              OPN     0.152077\n",
      "18             IL-6     0.088584\n",
      "19             IL-8     0.075116\n",
      "15            GDF15     0.066546\n",
      "17              HGF     0.063138\n",
      "30            sEGFR     0.056581\n",
      "8        CYFRA 21-1     0.043083\n",
      "24  Myeloperoxidase     0.042440\n"
     ]
    }
   ],
   "source": [
    "important_biomarkers_normal_stomach = rf_normal_cancers(categories = categories, \n",
    "                                                        dfs = dfs,\n",
    "                                                        cancer1_category_index = 8,\n",
    "                                                        iterations = 100,\n",
    "                                                        threshold = 0.04)"
   ]
  },
  {
   "cell_type": "markdown",
   "metadata": {},
   "source": [
    "# 5. Summary of findings - venn diagrams"
   ]
  }
 ],
 "metadata": {
  "kernelspec": {
   "display_name": "cancerbiomarkers",
   "language": "python",
   "name": "python3"
  },
  "language_info": {
   "codemirror_mode": {
    "name": "ipython",
    "version": 3
   },
   "file_extension": ".py",
   "mimetype": "text/x-python",
   "name": "python",
   "nbconvert_exporter": "python",
   "pygments_lexer": "ipython3",
   "version": "3.13.0"
  }
 },
 "nbformat": 4,
 "nbformat_minor": 2
}

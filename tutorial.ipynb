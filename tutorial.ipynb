{
 "cells": [
  {
   "cell_type": "markdown",
   "metadata": {},
   "source": [
    "# Tutorial for Cancer-Biomarkers-from-Clinical-Data"
   ]
  },
  {
   "cell_type": "markdown",
   "metadata": {},
   "source": [
    "## 1. Data loading and preprocessing"
   ]
  },
  {
   "cell_type": "markdown",
   "metadata": {},
   "source": [
    "### 1.1. Import the necessary modules"
   ]
  },
  {
   "cell_type": "code",
   "execution_count": 1,
   "metadata": {},
   "outputs": [],
   "source": [
    "# Library imports\n",
    "import matplotlib.pyplot as plt\n",
    "\n",
    "# Add the path to the src folder\n",
    "import sys\n",
    "sys.path.append('src')\n",
    "\n",
    "# Import data preprocessing functions\n",
    "from data_preprocessing import load_data, feature_label_split"
   ]
  },
  {
   "cell_type": "markdown",
   "metadata": {},
   "source": [
    "### 1.2. Load the data"
   ]
  },
  {
   "cell_type": "code",
   "execution_count": 2,
   "metadata": {},
   "outputs": [
    {
     "data": {
      "text/plain": [
       "[(0, 'Breast'),\n",
       " (1, 'Colorectum'),\n",
       " (2, 'Esophagus'),\n",
       " (3, 'Liver'),\n",
       " (4, 'Lung'),\n",
       " (5, 'Normal'),\n",
       " (6, 'Ovary'),\n",
       " (7, 'Pancreas'),\n",
       " (8, 'Stomach')]"
      ]
     },
     "execution_count": 2,
     "metadata": {},
     "output_type": "execute_result"
    }
   ],
   "source": [
    "categories, dfs = load_data('data/clinical_cancer_data.xlsx')\n",
    "\n",
    "list(enumerate(categories))"
   ]
  },
  {
   "cell_type": "markdown",
   "metadata": {},
   "source": [
    "## 2. Random forest model for `Ovary`, `Pancreas` and `Liver` samples, taken with random subsamples of `Normal` samples\n",
    "\n",
    "In this section, we will see three cancer types for which the list of biomarkers given by random forest classifier contain biomarkers with uniquely high level in the particular cancer type, along with other biomarkers whose Q3 values are in the top 2 among all cancer types. Essentially, in each of these cancer types, we obtain practically viable biomarkers. "
   ]
  },
  {
   "cell_type": "markdown",
   "metadata": {},
   "source": [
    "### 2.1. Import the necessary modules"
   ]
  },
  {
   "cell_type": "code",
   "execution_count": 3,
   "metadata": {},
   "outputs": [],
   "source": [
    "from random_forest_model import rf_normal_cancers, plot_important_biomarkers"
   ]
  },
  {
   "cell_type": "markdown",
   "metadata": {},
   "source": [
    "### 2.2. Random forest classification for `Normal + Ovary` samples\n",
    "\n",
    "* Uniquely high levels: `CA-125`\n",
    "* Higher side filtering: `Prolactin` (1st)"
   ]
  },
  {
   "cell_type": "code",
   "execution_count": 4,
   "metadata": {},
   "outputs": [
    {
     "name": "stdout",
     "output_type": "stream",
     "text": [
      "Random forest classification: Normal + Ovary\n",
      "\n",
      "Average Accuracy over 100 iterations: 0.9614\n",
      "\n",
      "Biomarkers with Importance >= 0.05:\n",
      "     Biomarker  Importance\n",
      "3      CA-125     0.159995\n",
      "29  Prolactin     0.109398\n",
      "18       IL-6     0.099734\n",
      "35       TGFa     0.094122\n",
      "31       sFas     0.075817\n"
     ]
    }
   ],
   "source": [
    "important_biomarkers_normal_ovary = rf_normal_cancers(categories = categories, \n",
    "                                                      dfs = dfs, \n",
    "                                                      cancer1_category_index = 6, \n",
    "                                                      iterations = 100,\n",
    "                                                      threshold = 0.05)"
   ]
  },
  {
   "cell_type": "markdown",
   "metadata": {},
   "source": [
    "### 2.3. Random forest classification for `Normal + Pancreas` samples\n",
    "\n",
    "* Uniquely high levels: `CA19-9`\n",
    "* Higher side filtering: `sHER2/sEGFR2/sErbB2` (1st)"
   ]
  },
  {
   "cell_type": "code",
   "execution_count": 5,
   "metadata": {},
   "outputs": [
    {
     "name": "stdout",
     "output_type": "stream",
     "text": [
      "Random forest classification: Normal + Pancreas\n",
      "\n",
      "Average Accuracy over 100 iterations: 0.9389\n",
      "\n",
      "Biomarkers with Importance >= 0.05:\n",
      "               Biomarker  Importance\n",
      "5                CA19-9     0.142069\n",
      "19                 IL-8     0.094102\n",
      "18                 IL-6     0.080587\n",
      "33  sHER2/sEGFR2/sErbB2     0.077110\n",
      "27                  OPN     0.060258\n",
      "15                GDF15     0.057668\n",
      "23              Midkine     0.050770\n"
     ]
    }
   ],
   "source": [
    "important_biomarkers_normal_pancreas = rf_normal_cancers(categories = categories, \n",
    "                                                         dfs = dfs, \n",
    "                                                         cancer1_category_index = 7, \n",
    "                                                         iterations = 100, \n",
    "                                                         threshold = 0.05)"
   ]
  },
  {
   "cell_type": "markdown",
   "metadata": {},
   "source": [
    "### 2.4. Random forest classification for `Normal + Liver` samples\n",
    "\n",
    "* Uniquely high levels: `AFP`\n",
    "* Higher side filtering: `OPN` (1st), `Myeloperoxidase`(1st), `HGF` (2nd), `GDF15` (2nd)\n",
    "\n",
    "`IL-8`, being important in regulating immune response and inflammation, are not specific to any one type of cancer. For example, the same two biomarkers are two of the most important ones in separating `Normal + Breast`, `Normal + Colorectum`, and `Normal + Esophagus` samples, as shown above. And they can be found in higher levels in `Esophagus` and `Stomach` samples.\n",
    "\n",
    "`HGF` Q3 levels are close in `Liver` and `Esophagus` samples, and higher in `Stomach` samples. Since `HGF` Q3 level in `Liver` is in top 2 among cancer types, we consider it as a potential biomarker for `Liver` cancer.\n",
    "\n",
    "`OPN` Q3 levels are the highest in `Liver` samples. Hence we consider it as a potential biomarker for `Liver` cancer.\n",
    "\n",
    "`GDF15` Q3 level in `Liver` is close to that of `Esophagus` and higher in `Pancreas`. Since `GDF15` Q3 level in `Liver` is in top 2 among cancer types, we consider it as a potential biomarker for `Liver` cancer.\n",
    "\n",
    "`Myeloperoxidase` Q3 level is the highest in `Liver` samples. Hence we consider it as a potential biomarker for `Liver` cancer.\n",
    "\n",
    "`AFP` levels are the highest in `Liver` samples, and uniquely so. Hence we consider it as a potential biomarker for `Liver` cancer with uniquely high levels."
   ]
  },
  {
   "cell_type": "code",
   "execution_count": 15,
   "metadata": {},
   "outputs": [
    {
     "name": "stdout",
     "output_type": "stream",
     "text": [
      "Random forest classification: Normal + Liver\n",
      "\n",
      "Average Accuracy over 100 iterations: 0.9483\n",
      "\n",
      "Biomarkers with Importance >= 0.05:\n",
      "           Biomarker  Importance\n",
      "19             IL-8     0.128577\n",
      "17              HGF     0.122702\n",
      "27              OPN     0.117051\n",
      "15            GDF15     0.085102\n",
      "24  Myeloperoxidase     0.062697\n",
      "0               AFP     0.054613\n"
     ]
    }
   ],
   "source": [
    "important_biomarkers_normal_liver = rf_normal_cancers(categories = categories, \n",
    "                                                      dfs = dfs,\n",
    "                                                      cancer1_category_index = 3,\n",
    "                                                      iterations = 100,\n",
    "                                                      threshold = 0.05)"
   ]
  },
  {
   "cell_type": "markdown",
   "metadata": {},
   "source": [
    "## 3. Random forest model for `Normal`, `Breast` and `Colorectum` samples\n",
    "\n",
    "Now we see two cancer types for which the important biomarkers given by random forest classifier are not suitable in practical scenario for distinguishing between different cancer types from normal samples. None of the biomarkers display uniquely high level for the particular cancer type, and none can be found with Q3 level in top 2 among all the cancer types. "
   ]
  },
  {
   "cell_type": "markdown",
   "metadata": {},
   "source": [
    "### 3.1. Random forest classification for `Normal + Breast` samples\n",
    "\n",
    "* Uniquely high levels: None\n",
    "* Higher side filtering: None\n",
    "\n",
    "As per the random forest classifier, the important biomarkers for distinguishing between `Normal` and `Breast` samples are the following:\n",
    "* `TGFa` (35)\n",
    "* `IL-8` (19)\n",
    "* `IL-6` (18)\n",
    "* `Prolactin` (29)\n",
    "* `CYFRA 21-1` (8)\n",
    "\n",
    "Note that, `IL-8` and `IL-6`, being important in regulating immune response and inflammation, are not specific to any one type of cancer. For example, the same two biomarkers are the most important ones in seperating `Normal` and `Colorectum` samples, as shown below. And they can be found in higher levels in some other cancer types, such as `Esophagus`. In fact, `IL-6` and `IL-8` Q3 value is the lowest in `Breast` samples among all the cancer types.\n",
    "\n",
    "Also, we can have a look at the descriptive statistics of `TGFa` to see that it's Q1, Q2 and Q3 values are very close, and in some cases virtually indistinguishable, in `Breast`, `Colorectum`, `Lung`, `Pancreas` and even `Normal` samples.\n",
    "\n",
    "`Prolactin` levels are much higher in `Liver`, `Lung` and `Ovary` samples than in `Breast` samples.\n",
    "\n",
    "`CYFRA 21-1` Q1, Q2 and Q3 values are very close in `Breast` and `Colorectum` samples, and can be found in higher levels in the other cancer types. In fact, the Q3 value of `CYFRA 21-1` is the lowest in `Breast` samples among all the cancer types."
   ]
  },
  {
   "cell_type": "code",
   "execution_count": 8,
   "metadata": {},
   "outputs": [
    {
     "name": "stdout",
     "output_type": "stream",
     "text": [
      "Random forest classification: Normal + Breast\n",
      "\n",
      "Average Accuracy over 100 iterations: 0.9630\n",
      "\n",
      "Biomarkers with Importance >= 0.05:\n",
      "      Biomarker  Importance\n",
      "35        TGFa     0.100919\n",
      "19        IL-8     0.087020\n",
      "18        IL-6     0.085325\n",
      "29   Prolactin     0.055615\n",
      "8   CYFRA 21-1     0.052147\n"
     ]
    }
   ],
   "source": [
    "important_biomarkers_normal_breast = rf_normal_cancers(categories = categories, \n",
    "                                                       dfs = dfs,\n",
    "                                                       cancer1_category_index = 0,\n",
    "                                                       iterations = 100,\n",
    "                                                       threshold = 0.05)"
   ]
  },
  {
   "cell_type": "markdown",
   "metadata": {},
   "source": [
    "### 3.2. Random forest classification for `Normal + Colorectum` samples\n",
    "\n",
    "* Uniquely high levels: None\n",
    "* Higher side filtering: None\n",
    "\n",
    "As per the random forest classifier, the important biomarkers for distinguishing between `Normal` and `Colorectum` samples are the following:\n",
    "* `IL-8` (19)\n",
    "* `IL-6` (18)\n",
    "* `OPN` (27)\n",
    "* `HGF` (17)\n",
    "* `GDF15` (15)\n",
    "* `sFas` (31)\n",
    "* `Prolactin` (29)\n",
    "\n",
    "Note that, `IL-8` and `IL-6`, being important in regulating immune response and inflammation, are not specific to any one type of cancer. For example, the same two biomarkers are two of the most important ones in separating `Normal` and `Breast` samples, as shown above. And they can be found in higher levels in some other cancer types, such as `Esophagus`, `Liver` and `Lung` samples.\n",
    "\n",
    "`OPN` Q3 levels are much higher in `Esophagus`, `Liver`, and `Stomach` samples than in `Colorectum` samples.\n",
    "\n",
    "`HGF` Q3 levels are higher in `Pancreas` samples, and much higher in `Esophagus`, `Liver`, and `Stomach` samples than in `Colorectum` samples.\n",
    "\n",
    "`GDF15` Q3 levels are close in `Colorectum` and Ovary samples, and higher in `Esophagus`, `Liver`, `Stomach` and `Pancreas` samples than in `Colorectum` samples.\n",
    "\n",
    "`sFas` Q3 levels are higher in `Breast`, `Esophagus`, `Liver`, `Lung`, `Pancreas`, `Stomach` and even `Normal` samples than in `Colorectum` samples.\n",
    "\n",
    "`Prolactin` levels are much higher in `Liver`, `Lung` and `Ovary` samples than in `Colorectum` samples.\n"
   ]
  },
  {
   "cell_type": "code",
   "execution_count": 9,
   "metadata": {},
   "outputs": [
    {
     "name": "stdout",
     "output_type": "stream",
     "text": [
      "Random forest classification: Normal + Colorectum\n",
      "\n",
      "Average Accuracy over 100 iterations: 0.9576\n",
      "\n",
      "Biomarkers with Importance >= 0.05:\n",
      "     Biomarker  Importance\n",
      "19       IL-8     0.135958\n",
      "18       IL-6     0.095141\n",
      "27        OPN     0.090611\n",
      "17        HGF     0.061261\n",
      "15      GDF15     0.058960\n",
      "31       sFas     0.057872\n",
      "29  Prolactin     0.054625\n"
     ]
    }
   ],
   "source": [
    "important_biomarkers_normal_colorectum = rf_normal_cancers(categories = categories, \n",
    "                                                           dfs = dfs,\n",
    "                                                           cancer1_category_index = 1,\n",
    "                                                           iterations = 100,\n",
    "                                                           threshold = 0.05)"
   ]
  },
  {
   "cell_type": "markdown",
   "metadata": {},
   "source": [
    "### 3.3. Random forest classification for `Normal + Breast + Colorectum` samples"
   ]
  },
  {
   "cell_type": "code",
   "execution_count": 10,
   "metadata": {},
   "outputs": [
    {
     "name": "stdout",
     "output_type": "stream",
     "text": [
      "Random forest classification: Normal + Breast + Colorectum\n",
      "\n",
      "Average Accuracy over 100 iterations: 0.8930\n",
      "\n",
      "Biomarkers with Importance >= 0.05:\n",
      "   Biomarker  Importance\n",
      "19     IL-8     0.088869\n",
      "18     IL-6     0.064423\n",
      "35     TGFa     0.057447\n",
      "31     sFas     0.053016\n"
     ]
    }
   ],
   "source": [
    "important_biomarkers_normal_breast_colorectum = rf_normal_cancers(categories = categories, \n",
    "                                                                  dfs = dfs,\n",
    "                                                                  cancer1_category_index = 0,\n",
    "                                                                  cancer2_category_index = 1,\n",
    "                                                                  iterations = 100,\n",
    "                                                                  threshold = 0.05)"
   ]
  },
  {
   "cell_type": "markdown",
   "metadata": {},
   "source": [
    "## 4. Random forest model for `Normal` and `Esophagus`, `Liver`, `Lung`, `Stomach` samples"
   ]
  },
  {
   "cell_type": "markdown",
   "metadata": {},
   "source": [
    "### 4.1. Random forest classification for `Normal + Esophagus` samples\n",
    "\n",
    "* Uniquely high levels: None\n",
    "* Higher side filtering: `TIMP-1` (1st), `OPN` (2nd), `Myeloperoxidase` (2nd)\n",
    "\n",
    "`OPN` Q2 and Q3 levels are close in `Esophagus` and `Stomach` samples, and higher in `Liver` samples. Since `OPN` Q3 level in `Esophagus` is in top 2 among cancer types, we consider it as a potential biomarker for `Esophagus` cancer.\n",
    "\n",
    "`HGF` Q3 levels are higher in `Liver` and `Stomach` samples.\n",
    "\n",
    "`IL-6` and `IL-8`, being important in regulating immune response and inflammation, are not specific to any one type of cancer. For example, the same two biomarkers are two of the most important ones in separating `Normal` and `Breast` samples, and also `Normal` and `Colorectum` samples, as shown above. And they can be found in higher levels in some other cancer types, such as `Liver` and `Lung` samples.\n",
    "\n",
    "`Myeloperoxidase` Q3 levels are higher only in `Liver` samples. Since `Myeloperoxidase` Q3 level in `Esophagus` is in top 2 among cancer types, we consider it as a potential biomarker for `Esophagus` cancer.\n",
    "\n",
    "`GDF15` Q3 levels are higher in `Liver` and `Pancreas` samples.\n",
    "\n",
    "Despite being present in high levels in `Liver`, `Ovary`, `Pancreas` and `Stomach` samples, `TIMP-1` Q3 levels are the highest in `Esophagus` samples. Hence, we consider it as a potential biomarker for `Esophagus` cancer."
   ]
  },
  {
   "cell_type": "code",
   "execution_count": 12,
   "metadata": {},
   "outputs": [
    {
     "name": "stdout",
     "output_type": "stream",
     "text": [
      "Random forest classification: Normal + Esophagus\n",
      "\n",
      "Average Accuracy over 100 iterations: 0.8617\n",
      "\n",
      "Biomarkers with Importance >= 0.05:\n",
      "           Biomarker  Importance\n",
      "27              OPN     0.098270\n",
      "17              HGF     0.096577\n",
      "18             IL-6     0.078884\n",
      "19             IL-8     0.068289\n",
      "24  Myeloperoxidase     0.060353\n",
      "15            GDF15     0.060257\n",
      "37           TIMP-1     0.051771\n"
     ]
    }
   ],
   "source": [
    "important_biomarkers_normal_esophagus = rf_normal_cancers(categories = categories, \n",
    "                                                          dfs = dfs,\n",
    "                                                          cancer1_category_index = 2,\n",
    "                                                          iterations = 100,\n",
    "                                                          threshold = 0.05)"
   ]
  },
  {
   "cell_type": "markdown",
   "metadata": {},
   "source": [
    "### 4.2. Random forest classification for `Normal + Lung` samples\n",
    "\n",
    "`NSE` Q3 level in `Lung` samples is the lowest among all the cancer types, and even the `Normal` samples."
   ]
  },
  {
   "cell_type": "code",
   "execution_count": 13,
   "metadata": {},
   "outputs": [
    {
     "name": "stdout",
     "output_type": "stream",
     "text": [
      "Random forest classification: Normal + Lung\n",
      "\n",
      "Average Accuracy over 100 iterations: 0.9769\n",
      "\n",
      "Biomarkers with Importance >= 0.05:\n",
      "     Biomarker  Importance\n",
      "29  Prolactin     0.156559\n",
      "19       IL-8     0.080851\n",
      "25        NSE     0.079439\n",
      "18       IL-6     0.074091\n",
      "15      GDF15     0.052625\n",
      "27        OPN     0.051229\n"
     ]
    }
   ],
   "source": [
    "important_biomarkers_normal_lung = rf_normal_cancers(categories = categories, \n",
    "                                                     dfs = dfs,\n",
    "                                                     cancer1_category_index = 4,\n",
    "                                                     iterations = 100,\n",
    "                                                     threshold = 0.05)"
   ]
  },
  {
   "cell_type": "markdown",
   "metadata": {},
   "source": [
    "### 4.3. Random forest classification for `Normal + Stomach` samples"
   ]
  },
  {
   "cell_type": "code",
   "execution_count": 14,
   "metadata": {},
   "outputs": [
    {
     "name": "stdout",
     "output_type": "stream",
     "text": [
      "Random forest classification: Normal + Stomach\n",
      "\n",
      "Average Accuracy over 100 iterations: 0.9304\n",
      "\n",
      "Biomarkers with Importance >= 0.05:\n",
      "   Biomarker  Importance\n",
      "27      OPN     0.152077\n",
      "18     IL-6     0.088584\n",
      "19     IL-8     0.075116\n",
      "15    GDF15     0.066546\n",
      "17      HGF     0.063138\n",
      "30    sEGFR     0.056581\n"
     ]
    }
   ],
   "source": [
    "important_biomarkers_normal_stomach = rf_normal_cancers(categories = categories, \n",
    "                                                        dfs = dfs,\n",
    "                                                        cancer1_category_index = 8,\n",
    "                                                        iterations = 100,\n",
    "                                                        threshold = 0.05)"
   ]
  }
 ],
 "metadata": {
  "kernelspec": {
   "display_name": "cancerbiomarkers",
   "language": "python",
   "name": "python3"
  },
  "language_info": {
   "codemirror_mode": {
    "name": "ipython",
    "version": 3
   },
   "file_extension": ".py",
   "mimetype": "text/x-python",
   "name": "python",
   "nbconvert_exporter": "python",
   "pygments_lexer": "ipython3",
   "version": "3.13.0"
  }
 },
 "nbformat": 4,
 "nbformat_minor": 2
}
